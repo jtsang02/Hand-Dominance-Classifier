{
 "cells": [
  {
   "cell_type": "markdown",
   "id": "fc936534",
   "metadata": {},
   "source": [
    "### Import basic libraries"
   ]
  },
  {
   "cell_type": "code",
   "execution_count": 4,
   "id": "c6fcd163",
   "metadata": {},
   "outputs": [],
   "source": [
    "import pandas as pd"
   ]
  },
  {
   "cell_type": "markdown",
   "id": "a929ded4",
   "metadata": {},
   "source": [
    "### Manual Inputs\n",
    "\n",
    "Copy the name of file to import and manually input parameters (only do once)"
   ]
  },
  {
   "cell_type": "code",
   "execution_count": 5,
   "id": "1c09b220",
   "metadata": {},
   "outputs": [],
   "source": [
    "# SPECIFIC TO EACH CSV FILE, CHANGE THESE 4 PARAMS\n",
    "participant_number = 325\n",
    "# boolean value, set to true or false   \n",
    "rightHanded = True\n",
    "male = False                 \n",
    "english = True                           "
   ]
  },
  {
   "cell_type": "markdown",
   "id": "87224e78",
   "metadata": {},
   "source": [
    "### Condensed Script"
   ]
  },
  {
   "cell_type": "code",
   "execution_count": 6,
   "id": "d4e5b551",
   "metadata": {},
   "outputs": [
    {
     "name": "stdout",
     "output_type": "stream",
     "text": [
      "LHC-325\n",
      "LHS-325\n",
      "RHS-325\n",
      "RHC-325\n"
     ]
    }
   ],
   "source": [
    "# create array of 4 file names per test\n",
    "fileNames = []\n",
    "fileNames.append('LH-C-' + str(participant_number) + '.csv')\n",
    "fileNames.append('LH-S-' + str(participant_number) + '.csv')\n",
    "fileNames.append('RH-S-' + str(participant_number) + '.csv')\n",
    "fileNames.append('RH-C-' + str(participant_number) + '.csv')\n",
    "\n",
    "\n",
    "for fileName in fileNames:\n",
    "    \n",
    "    data_new = pd.read_csv(fileName)    # Read CSV file\n",
    "    size = len(data_new[:])\n",
    "\n",
    "    # parse fileName for 'Participant' and 'Test'\n",
    "    # e.g LH-C-317.csv\n",
    "    removedCsv = fileName.split('.')[0]\n",
    "    testNumber = removedCsv[5:]\n",
    "    test = removedCsv[:2] + removedCsv[3]\n",
    "\n",
    "    # add missing features\n",
    "    data_new['Participant'] = [testNumber] * size       \n",
    "    data_new['Test'] = [test] * size\n",
    "    data_new['Gender'] = ['Male' if male else 'Female'] * size\n",
    "    data_new['English'] = ['Yes' if english else 'No'] * size\n",
    "    data_new['Dominance'] = ['Right' if rightHanded else 'Left'] * size\n",
    "    # export to a new CSV file\n",
    "    newFileName = test + '-' + testNumber\n",
    "    print(newFileName)\n",
    "    data_new.to_csv(newFileName, mode='w')"
   ]
  }
 ],
 "metadata": {
  "kernelspec": {
   "display_name": "Python 3.9.7 ('base')",
   "language": "python",
   "name": "python3"
  },
  "language_info": {
   "codemirror_mode": {
    "name": "ipython",
    "version": 3
   },
   "file_extension": ".py",
   "mimetype": "text/x-python",
   "name": "python",
   "nbconvert_exporter": "python",
   "pygments_lexer": "ipython3",
   "version": "3.9.7"
  },
  "toc": {
   "base_numbering": 1,
   "nav_menu": {},
   "number_sections": true,
   "sideBar": true,
   "skip_h1_title": false,
   "title_cell": "Table of Contents",
   "title_sidebar": "Contents",
   "toc_cell": true,
   "toc_position": {},
   "toc_section_display": true,
   "toc_window_display": true
  },
  "vscode": {
   "interpreter": {
    "hash": "124e47c1ad6ceb91c3ceb1dde65cfb37b91587009ebc216d439d411f4704dda1"
   }
  }
 },
 "nbformat": 4,
 "nbformat_minor": 5
}
