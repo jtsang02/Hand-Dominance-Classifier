{
 "cells": [
  {
   "cell_type": "markdown",
   "id": "fc936534",
   "metadata": {},
   "source": [
    "### Import basic libraries"
   ]
  },
  {
   "cell_type": "code",
   "execution_count": 1,
   "id": "c6fcd163",
   "metadata": {},
   "outputs": [],
   "source": [
    "import pandas as pd"
   ]
  },
  {
   "cell_type": "markdown",
   "id": "a929ded4",
   "metadata": {},
   "source": [
    "### Manual Inputs\n",
    "\n",
    "Copy the name of file to import and manually input parameters (only do once)"
   ]
  },
  {
   "cell_type": "code",
   "execution_count": 2,
   "id": "1c09b220",
   "metadata": {},
   "outputs": [],
   "source": [
    "# SPECIFIC TO EACH CSV FILE\n",
    "# starting file number\n",
    "start = 306\n",
    "# ending file number\n",
    "end = 326"
   ]
  },
  {
   "cell_type": "markdown",
   "id": "87224e78",
   "metadata": {},
   "source": [
    "### Condensed Script"
   ]
  },
  {
   "cell_type": "code",
   "execution_count": 3,
   "id": "d4e5b551",
   "metadata": {},
   "outputs": [
    {
     "name": "stdout",
     "output_type": "stream",
     "text": [
      "LHC-306.csv\n",
      "LHS-306.csv\n",
      "RHS-306.csv\n",
      "RHC-306.csv\n",
      "LHC-307.csv\n",
      "LHS-307.csv\n",
      "RHS-307.csv\n",
      "RHC-307.csv\n",
      "LHC-308.csv\n",
      "LHS-308.csv\n",
      "RHS-308.csv\n",
      "RHC-308.csv\n",
      "LHC-309.csv\n",
      "LHS-309.csv\n",
      "RHS-309.csv\n",
      "RHC-309.csv\n",
      "LHC-310.csv\n",
      "LHS-310.csv\n",
      "RHS-310.csv\n",
      "RHC-310.csv\n",
      "LHC-311.csv\n",
      "LHS-311.csv\n",
      "RHS-311.csv\n",
      "RHC-311.csv\n",
      "LHC-312.csv\n",
      "LHS-312.csv\n",
      "RHS-312.csv\n",
      "RHC-312.csv\n",
      "LHC-313.csv\n",
      "LHS-313.csv\n",
      "RHS-313.csv\n",
      "RHC-313.csv\n",
      "LHC-314.csv\n",
      "LHS-314.csv\n",
      "RHS-314.csv\n",
      "RHC-314.csv\n",
      "LHC-315.csv\n",
      "LHS-315.csv\n",
      "RHS-315.csv\n",
      "RHC-315.csv\n",
      "LHC-316.csv\n",
      "LHS-316.csv\n",
      "RHS-316.csv\n",
      "RHC-316.csv\n",
      "LHC-317.csv\n",
      "LHS-317.csv\n",
      "RHS-317.csv\n",
      "RHC-317.csv\n",
      "LHC-318.csv\n",
      "LHS-318.csv\n",
      "RHS-318.csv\n",
      "RHC-318.csv\n",
      "LHC-319.csv\n",
      "LHS-319.csv\n",
      "RHS-319.csv\n",
      "RHC-319.csv\n",
      "LHC-320.csv\n",
      "LHS-320.csv\n",
      "RHS-320.csv\n",
      "RHC-320.csv\n",
      "LHC-321.csv\n",
      "LHS-321.csv\n",
      "RHS-321.csv\n",
      "RHC-321.csv\n",
      "LHC-322.csv\n",
      "LHS-322.csv\n",
      "RHS-322.csv\n",
      "RHC-322.csv\n",
      "LHC-323.csv\n",
      "LHS-323.csv\n",
      "RHS-323.csv\n",
      "RHC-323.csv\n",
      "LHC-324.csv\n",
      "LHS-324.csv\n",
      "RHS-324.csv\n",
      "RHC-324.csv\n",
      "LHC-325.csv\n",
      "LHS-325.csv\n",
      "RHS-325.csv\n",
      "RHC-325.csv\n",
      "LHC-326.csv\n",
      "LHS-326.csv\n",
      "RHS-326.csv\n",
      "RHC-326.csv\n"
     ]
    }
   ],
   "source": [
    "for participant_number in range(start, end+1):\n",
    "\n",
    "    # create array of 4 file names per test\n",
    "    fileNames = []\n",
    "    fileNames.append('LHC-' + str(participant_number))\n",
    "    fileNames.append('LHS-' + str(participant_number))\n",
    "    fileNames.append('RHS-' + str(participant_number))\n",
    "    fileNames.append('RHC-' + str(participant_number))\n",
    "\n",
    "\n",
    "    for fileName in fileNames:\n",
    "        \n",
    "        data_new = pd.read_csv(fileName)    # Read CSV file\n",
    "\n",
    "        # export to a new CSV file\n",
    "        newFileName = fileName + '.csv'\n",
    "        print(newFileName)\n",
    "        data_new.to_csv(newFileName, mode='w')"
   ]
  }
 ],
 "metadata": {
  "kernelspec": {
   "display_name": "Python 3.9.7 ('base')",
   "language": "python",
   "name": "python3"
  },
  "language_info": {
   "codemirror_mode": {
    "name": "ipython",
    "version": 3
   },
   "file_extension": ".py",
   "mimetype": "text/x-python",
   "name": "python",
   "nbconvert_exporter": "python",
   "pygments_lexer": "ipython3",
   "version": "3.9.7"
  },
  "toc": {
   "base_numbering": 1,
   "nav_menu": {},
   "number_sections": true,
   "sideBar": true,
   "skip_h1_title": false,
   "title_cell": "Table of Contents",
   "title_sidebar": "Contents",
   "toc_cell": true,
   "toc_position": {},
   "toc_section_display": true,
   "toc_window_display": true
  },
  "vscode": {
   "interpreter": {
    "hash": "124e47c1ad6ceb91c3ceb1dde65cfb37b91587009ebc216d439d411f4704dda1"
   }
  }
 },
 "nbformat": 4,
 "nbformat_minor": 5
}
