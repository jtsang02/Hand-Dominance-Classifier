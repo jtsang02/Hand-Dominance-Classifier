{
 "cells": [
  {
   "cell_type": "markdown",
   "metadata": {},
   "source": [
    "# MANU 465 Capstone Project"
   ]
  },
  {
   "cell_type": "markdown",
   "metadata": {},
   "source": [
    "The following is the code for MANU 465 EEG Group #9 Capstone Project. The code is written in Python and uses the following libraries:\n",
    "\n",
    "* Pandas\n",
    "* Numpy\n",
    "* Matplotlib\n",
    "* Seaborn\n",
    "* Scikit-learn\n"
   ]
  },
  {
   "cell_type": "markdown",
   "metadata": {},
   "source": [
    "## Objective"
   ]
  },
  {
   "cell_type": "markdown",
   "metadata": {},
   "source": [
    "Our objective is to use machine learning to determine if a person is left or right handed based on brainwave data."
   ]
  },
  {
   "cell_type": "markdown",
   "metadata": {},
   "source": [
    "## Setup"
   ]
  },
  {
   "cell_type": "markdown",
   "metadata": {},
   "source": [
    "### Import Libraries"
   ]
  },
  {
   "cell_type": "code",
   "execution_count": 174,
   "metadata": {},
   "outputs": [],
   "source": [
    "import numpy as np\n",
    "import matplotlib.pyplot as plt\n",
    "import pandas as pd\n",
    "import tensorflow as tf\n",
    "import tensorflow.keras as kr\n",
    "import seaborn as sns\n",
    "import os"
   ]
  },
  {
   "cell_type": "markdown",
   "metadata": {},
   "source": [
    "### Authors"
   ]
  },
  {
   "cell_type": "code",
   "execution_count": 175,
   "metadata": {},
   "outputs": [
    {
     "data": {
      "text/html": [
       "<div>\n",
       "<style scoped>\n",
       "    .dataframe tbody tr th:only-of-type {\n",
       "        vertical-align: middle;\n",
       "    }\n",
       "\n",
       "    .dataframe tbody tr th {\n",
       "        vertical-align: top;\n",
       "    }\n",
       "\n",
       "    .dataframe thead th {\n",
       "        text-align: right;\n",
       "    }\n",
       "</style>\n",
       "<table border=\"1\" class=\"dataframe\">\n",
       "  <thead>\n",
       "    <tr style=\"text-align: right;\">\n",
       "      <th></th>\n",
       "      <th>Name</th>\n",
       "      <th>Student ID</th>\n",
       "    </tr>\n",
       "  </thead>\n",
       "  <tbody>\n",
       "    <tr>\n",
       "      <th>0</th>\n",
       "      <td>Josiah</td>\n",
       "      <td>7412148</td>\n",
       "    </tr>\n",
       "    <tr>\n",
       "      <th>1</th>\n",
       "      <td>Muyang Li</td>\n",
       "      <td>0</td>\n",
       "    </tr>\n",
       "    <tr>\n",
       "      <th>2</th>\n",
       "      <td>Sofi</td>\n",
       "      <td>0</td>\n",
       "    </tr>\n",
       "    <tr>\n",
       "      <th>3</th>\n",
       "      <td>Marti</td>\n",
       "      <td>0</td>\n",
       "    </tr>\n",
       "    <tr>\n",
       "      <th>4</th>\n",
       "      <td>Lisa</td>\n",
       "      <td>0</td>\n",
       "    </tr>\n",
       "    <tr>\n",
       "      <th>5</th>\n",
       "      <td>Simon</td>\n",
       "      <td>0</td>\n",
       "    </tr>\n",
       "  </tbody>\n",
       "</table>\n",
       "</div>"
      ],
      "text/plain": [
       "        Name  Student ID\n",
       "0     Josiah     7412148\n",
       "1  Muyang Li           0\n",
       "2       Sofi           0\n",
       "3      Marti           0\n",
       "4       Lisa           0\n",
       "5      Simon           0"
      ]
     },
     "execution_count": 175,
     "metadata": {},
     "output_type": "execute_result"
    }
   ],
   "source": [
    "d = {'Josiah': 7412148, 'Muyang Li': 000000, 'Sofi': 0, 'Marti': 0, 'Lisa': 0, 'Simon': 0}    # please add your name and student ID\n",
    "Authors = pd.DataFrame(d.items(), columns=['Name', 'Student ID'])\n",
    "Authors"
   ]
  },
  {
   "cell_type": "markdown",
   "metadata": {},
   "source": [
    "## Importing Raw Data"
   ]
  },
  {
   "cell_type": "markdown",
   "metadata": {},
   "source": [
    "Get Current Working directory and append the data relative dir\n"
   ]
  },
  {
   "cell_type": "code",
   "execution_count": 176,
   "metadata": {},
   "outputs": [
    {
     "data": {
      "text/html": [
       "<div>\n",
       "<style scoped>\n",
       "    .dataframe tbody tr th:only-of-type {\n",
       "        vertical-align: middle;\n",
       "    }\n",
       "\n",
       "    .dataframe tbody tr th {\n",
       "        vertical-align: top;\n",
       "    }\n",
       "\n",
       "    .dataframe thead th {\n",
       "        text-align: right;\n",
       "    }\n",
       "</style>\n",
       "<table border=\"1\" class=\"dataframe\">\n",
       "  <thead>\n",
       "    <tr style=\"text-align: right;\">\n",
       "      <th></th>\n",
       "      <th>TimeStamp</th>\n",
       "      <th>Delta_TP9</th>\n",
       "      <th>Delta_AF7</th>\n",
       "      <th>Delta_AF8</th>\n",
       "      <th>Delta_TP10</th>\n",
       "      <th>Theta_TP9</th>\n",
       "      <th>Theta_AF7</th>\n",
       "      <th>Theta_AF8</th>\n",
       "      <th>Theta_TP10</th>\n",
       "      <th>Alpha_TP9</th>\n",
       "      <th>...</th>\n",
       "      <th>HSI_AF7</th>\n",
       "      <th>HSI_AF8</th>\n",
       "      <th>HSI_TP10</th>\n",
       "      <th>Battery</th>\n",
       "      <th>Elements</th>\n",
       "      <th>Participant</th>\n",
       "      <th>Test</th>\n",
       "      <th>Gender</th>\n",
       "      <th>English</th>\n",
       "      <th>Dominance</th>\n",
       "    </tr>\n",
       "  </thead>\n",
       "  <tbody>\n",
       "    <tr>\n",
       "      <th>0</th>\n",
       "      <td>14:57.0</td>\n",
       "      <td>1.056179</td>\n",
       "      <td>1.324996</td>\n",
       "      <td>1.302308</td>\n",
       "      <td>0.964805</td>\n",
       "      <td>0.591862</td>\n",
       "      <td>0.955451</td>\n",
       "      <td>0.752519</td>\n",
       "      <td>1.228747</td>\n",
       "      <td>0.730552</td>\n",
       "      <td>...</td>\n",
       "      <td>1.0</td>\n",
       "      <td>1.0</td>\n",
       "      <td>2.0</td>\n",
       "      <td>50.0</td>\n",
       "      <td>NaN</td>\n",
       "      <td>215.0</td>\n",
       "      <td>LHC</td>\n",
       "      <td>Male</td>\n",
       "      <td>No</td>\n",
       "      <td>Left</td>\n",
       "    </tr>\n",
       "    <tr>\n",
       "      <th>1</th>\n",
       "      <td>14:57.6</td>\n",
       "      <td>NaN</td>\n",
       "      <td>NaN</td>\n",
       "      <td>NaN</td>\n",
       "      <td>NaN</td>\n",
       "      <td>NaN</td>\n",
       "      <td>NaN</td>\n",
       "      <td>NaN</td>\n",
       "      <td>NaN</td>\n",
       "      <td>NaN</td>\n",
       "      <td>...</td>\n",
       "      <td>NaN</td>\n",
       "      <td>NaN</td>\n",
       "      <td>NaN</td>\n",
       "      <td>NaN</td>\n",
       "      <td>/muse/elements/blink</td>\n",
       "      <td>215.0</td>\n",
       "      <td>LHC</td>\n",
       "      <td>Male</td>\n",
       "      <td>No</td>\n",
       "      <td>Left</td>\n",
       "    </tr>\n",
       "    <tr>\n",
       "      <th>2</th>\n",
       "      <td>14:58.0</td>\n",
       "      <td>1.056179</td>\n",
       "      <td>1.324996</td>\n",
       "      <td>1.252481</td>\n",
       "      <td>0.964805</td>\n",
       "      <td>0.591862</td>\n",
       "      <td>0.955451</td>\n",
       "      <td>0.880058</td>\n",
       "      <td>1.228747</td>\n",
       "      <td>0.730552</td>\n",
       "      <td>...</td>\n",
       "      <td>1.0</td>\n",
       "      <td>1.0</td>\n",
       "      <td>2.0</td>\n",
       "      <td>50.0</td>\n",
       "      <td>NaN</td>\n",
       "      <td>215.0</td>\n",
       "      <td>LHC</td>\n",
       "      <td>Male</td>\n",
       "      <td>No</td>\n",
       "      <td>Left</td>\n",
       "    </tr>\n",
       "    <tr>\n",
       "      <th>3</th>\n",
       "      <td>14:59.1</td>\n",
       "      <td>1.056179</td>\n",
       "      <td>0.859274</td>\n",
       "      <td>1.064056</td>\n",
       "      <td>0.964805</td>\n",
       "      <td>0.591862</td>\n",
       "      <td>0.563910</td>\n",
       "      <td>0.899856</td>\n",
       "      <td>1.228747</td>\n",
       "      <td>0.730552</td>\n",
       "      <td>...</td>\n",
       "      <td>1.0</td>\n",
       "      <td>1.0</td>\n",
       "      <td>2.0</td>\n",
       "      <td>50.0</td>\n",
       "      <td>NaN</td>\n",
       "      <td>215.0</td>\n",
       "      <td>LHC</td>\n",
       "      <td>Male</td>\n",
       "      <td>No</td>\n",
       "      <td>Left</td>\n",
       "    </tr>\n",
       "    <tr>\n",
       "      <th>4</th>\n",
       "      <td>15:00.0</td>\n",
       "      <td>NaN</td>\n",
       "      <td>NaN</td>\n",
       "      <td>NaN</td>\n",
       "      <td>NaN</td>\n",
       "      <td>NaN</td>\n",
       "      <td>NaN</td>\n",
       "      <td>NaN</td>\n",
       "      <td>NaN</td>\n",
       "      <td>NaN</td>\n",
       "      <td>...</td>\n",
       "      <td>NaN</td>\n",
       "      <td>NaN</td>\n",
       "      <td>NaN</td>\n",
       "      <td>NaN</td>\n",
       "      <td>/muse/elements/blink</td>\n",
       "      <td>215.0</td>\n",
       "      <td>LHC</td>\n",
       "      <td>Male</td>\n",
       "      <td>No</td>\n",
       "      <td>Left</td>\n",
       "    </tr>\n",
       "  </tbody>\n",
       "</table>\n",
       "<p>5 rows × 44 columns</p>\n",
       "</div>"
      ],
      "text/plain": [
       "  TimeStamp  Delta_TP9  Delta_AF7  Delta_AF8  Delta_TP10  Theta_TP9  \\\n",
       "0   14:57.0   1.056179   1.324996   1.302308    0.964805   0.591862   \n",
       "1   14:57.6        NaN        NaN        NaN         NaN        NaN   \n",
       "2   14:58.0   1.056179   1.324996   1.252481    0.964805   0.591862   \n",
       "3   14:59.1   1.056179   0.859274   1.064056    0.964805   0.591862   \n",
       "4   15:00.0        NaN        NaN        NaN         NaN        NaN   \n",
       "\n",
       "   Theta_AF7  Theta_AF8  Theta_TP10  Alpha_TP9  ...  HSI_AF7  HSI_AF8  \\\n",
       "0   0.955451   0.752519    1.228747   0.730552  ...      1.0      1.0   \n",
       "1        NaN        NaN         NaN        NaN  ...      NaN      NaN   \n",
       "2   0.955451   0.880058    1.228747   0.730552  ...      1.0      1.0   \n",
       "3   0.563910   0.899856    1.228747   0.730552  ...      1.0      1.0   \n",
       "4        NaN        NaN         NaN        NaN  ...      NaN      NaN   \n",
       "\n",
       "   HSI_TP10  Battery              Elements  Participant  Test  Gender  \\\n",
       "0       2.0     50.0                   NaN        215.0   LHC    Male   \n",
       "1       NaN      NaN  /muse/elements/blink        215.0   LHC    Male   \n",
       "2       2.0     50.0                   NaN        215.0   LHC    Male   \n",
       "3       2.0     50.0                   NaN        215.0   LHC    Male   \n",
       "4       NaN      NaN  /muse/elements/blink        215.0   LHC    Male   \n",
       "\n",
       "   English  Dominance  \n",
       "0       No       Left  \n",
       "1       No       Left  \n",
       "2       No       Left  \n",
       "3       No       Left  \n",
       "4       No       Left  \n",
       "\n",
       "[5 rows x 44 columns]"
      ]
     },
     "execution_count": 176,
     "metadata": {},
     "output_type": "execute_result"
    }
   ],
   "source": [
    "cwd = os.getcwd()\n",
    "LHD_dir = cwd + r\"\\Data Collection\\Unprocessed Data\\Left Handed Dominant\"\n",
    "RHD_dir = cwd + r\"\\Data Collection\\Unprocessed Data\\Right Hand Dominant\"\n",
    "\n",
    "# Hold file locations\n",
    "leftHandDominant    = []\n",
    "rightHandDominant   = []\n",
    "\n",
    "#Populate file location arrays\n",
    "for file in os.listdir(LHD_dir):\n",
    "    if file.endswith('.csv'):\n",
    "        leftHandDominant.append(os.path.join(LHD_dir, file))\n",
    "for file in os.listdir(RHD_dir):\n",
    "        if file.endswith('.csv'):\n",
    "            rightHandDominant.append(os.path.join(RHD_dir, file))\n",
    "            \n",
    "#Test reading files by changing num\n",
    "num = 9\n",
    "sample = pd.read_csv(leftHandDominant[num])\n",
    "sample.head()"
   ]
  },
  {
   "cell_type": "markdown",
   "metadata": {},
   "source": [
    "### Summary of Unprocessed Data"
   ]
  },
  {
   "cell_type": "code",
   "execution_count": 177,
   "metadata": {},
   "outputs": [
    {
     "name": "stdout",
     "output_type": "stream",
     "text": [
      "> 72 files were added from the LHD category\n",
      "> 321 files were added from the RHD category\n",
      "\n"
     ]
    }
   ],
   "source": [
    "#Mini-Summary of Block\n",
    "print(f\"> {len(leftHandDominant)} files were added from the LHD category\")\n",
    "print(f\"> {len(rightHandDominant)} files were added from the RHD category\\n\")"
   ]
  },
  {
   "cell_type": "markdown",
   "metadata": {},
   "source": [
    "### MUSE Features"
   ]
  },
  {
   "cell_type": "markdown",
   "metadata": {},
   "source": [
    "Features generated by the Muse 2 headband"
   ]
  },
  {
   "cell_type": "code",
   "execution_count": 178,
   "metadata": {},
   "outputs": [
    {
     "data": {
      "text/html": [
       "<div>\n",
       "<style scoped>\n",
       "    .dataframe tbody tr th:only-of-type {\n",
       "        vertical-align: middle;\n",
       "    }\n",
       "\n",
       "    .dataframe tbody tr th {\n",
       "        vertical-align: top;\n",
       "    }\n",
       "\n",
       "    .dataframe thead th {\n",
       "        text-align: right;\n",
       "    }\n",
       "</style>\n",
       "<table border=\"1\" class=\"dataframe\">\n",
       "  <thead>\n",
       "    <tr style=\"text-align: right;\">\n",
       "      <th></th>\n",
       "      <th>0</th>\n",
       "      <th>1</th>\n",
       "      <th>2</th>\n",
       "      <th>3</th>\n",
       "      <th>4</th>\n",
       "      <th>5</th>\n",
       "      <th>6</th>\n",
       "      <th>7</th>\n",
       "      <th>8</th>\n",
       "      <th>9</th>\n",
       "      <th>...</th>\n",
       "      <th>29</th>\n",
       "      <th>30</th>\n",
       "      <th>31</th>\n",
       "      <th>32</th>\n",
       "      <th>33</th>\n",
       "      <th>34</th>\n",
       "      <th>35</th>\n",
       "      <th>36</th>\n",
       "      <th>37</th>\n",
       "      <th>38</th>\n",
       "    </tr>\n",
       "  </thead>\n",
       "  <tbody>\n",
       "    <tr>\n",
       "      <th>0</th>\n",
       "      <td>TimeStamp</td>\n",
       "      <td>Delta_TP9</td>\n",
       "      <td>Delta_AF7</td>\n",
       "      <td>Delta_AF8</td>\n",
       "      <td>Delta_TP10</td>\n",
       "      <td>Theta_TP9</td>\n",
       "      <td>Theta_AF7</td>\n",
       "      <td>Theta_AF8</td>\n",
       "      <td>Theta_TP10</td>\n",
       "      <td>Alpha_TP9</td>\n",
       "      <td>...</td>\n",
       "      <td>Gyro_X</td>\n",
       "      <td>Gyro_Y</td>\n",
       "      <td>Gyro_Z</td>\n",
       "      <td>HeadBandOn</td>\n",
       "      <td>HSI_TP9</td>\n",
       "      <td>HSI_AF7</td>\n",
       "      <td>HSI_AF8</td>\n",
       "      <td>HSI_TP10</td>\n",
       "      <td>Battery</td>\n",
       "      <td>Elements</td>\n",
       "    </tr>\n",
       "  </tbody>\n",
       "</table>\n",
       "<p>1 rows × 39 columns</p>\n",
       "</div>"
      ],
      "text/plain": [
       "          0          1          2          3           4          5   \\\n",
       "0  TimeStamp  Delta_TP9  Delta_AF7  Delta_AF8  Delta_TP10  Theta_TP9   \n",
       "\n",
       "          6          7           8          9   ...      29      30      31  \\\n",
       "0  Theta_AF7  Theta_AF8  Theta_TP10  Alpha_TP9  ...  Gyro_X  Gyro_Y  Gyro_Z   \n",
       "\n",
       "           32       33       34       35        36       37        38  \n",
       "0  HeadBandOn  HSI_TP9  HSI_AF7  HSI_AF8  HSI_TP10  Battery  Elements  \n",
       "\n",
       "[1 rows x 39 columns]"
      ]
     },
     "execution_count": 178,
     "metadata": {},
     "output_type": "execute_result"
    }
   ],
   "source": [
    "pd.DataFrame(sample.columns[0:39]).T"
   ]
  },
  {
   "cell_type": "markdown",
   "metadata": {},
   "source": [
    "Features added from our data collection"
   ]
  },
  {
   "cell_type": "code",
   "execution_count": 179,
   "metadata": {},
   "outputs": [
    {
     "data": {
      "text/html": [
       "<div>\n",
       "<style scoped>\n",
       "    .dataframe tbody tr th:only-of-type {\n",
       "        vertical-align: middle;\n",
       "    }\n",
       "\n",
       "    .dataframe tbody tr th {\n",
       "        vertical-align: top;\n",
       "    }\n",
       "\n",
       "    .dataframe thead th {\n",
       "        text-align: right;\n",
       "    }\n",
       "</style>\n",
       "<table border=\"1\" class=\"dataframe\">\n",
       "  <thead>\n",
       "    <tr style=\"text-align: right;\">\n",
       "      <th></th>\n",
       "      <th>0</th>\n",
       "      <th>1</th>\n",
       "      <th>2</th>\n",
       "      <th>3</th>\n",
       "      <th>4</th>\n",
       "    </tr>\n",
       "  </thead>\n",
       "  <tbody>\n",
       "    <tr>\n",
       "      <th>0</th>\n",
       "      <td>Participant</td>\n",
       "      <td>Test</td>\n",
       "      <td>Gender</td>\n",
       "      <td>English</td>\n",
       "      <td>Dominance</td>\n",
       "    </tr>\n",
       "  </tbody>\n",
       "</table>\n",
       "</div>"
      ],
      "text/plain": [
       "             0     1       2        3          4\n",
       "0  Participant  Test  Gender  English  Dominance"
      ]
     },
     "execution_count": 179,
     "metadata": {},
     "output_type": "execute_result"
    }
   ],
   "source": [
    "pd.DataFrame(sample.columns[39:]).T"
   ]
  },
  {
   "cell_type": "markdown",
   "metadata": {},
   "source": [
    "### Raw Data Summary"
   ]
  },
  {
   "cell_type": "code",
   "execution_count": 180,
   "metadata": {},
   "outputs": [
    {
     "name": "stdout",
     "output_type": "stream",
     "text": [
      "<class 'pandas.core.frame.DataFrame'>\n",
      "RangeIndex: 66 entries, 0 to 65\n",
      "Data columns (total 44 columns):\n",
      " #   Column           Non-Null Count  Dtype  \n",
      "---  ------           --------------  -----  \n",
      " 0   TimeStamp        19 non-null     object \n",
      " 1   Delta_TP9        16 non-null     float64\n",
      " 2   Delta_AF7        16 non-null     float64\n",
      " 3   Delta_AF8        16 non-null     float64\n",
      " 4   Delta_TP10       16 non-null     float64\n",
      " 5   Theta_TP9        16 non-null     float64\n",
      " 6   Theta_AF7        16 non-null     float64\n",
      " 7   Theta_AF8        16 non-null     float64\n",
      " 8   Theta_TP10       16 non-null     float64\n",
      " 9   Alpha_TP9        16 non-null     float64\n",
      " 10  Alpha_AF7        16 non-null     float64\n",
      " 11  Alpha_AF8        16 non-null     float64\n",
      " 12  Alpha_TP10       16 non-null     float64\n",
      " 13  Beta_TP9         16 non-null     float64\n",
      " 14  Beta_AF7         16 non-null     float64\n",
      " 15  Beta_AF8         16 non-null     float64\n",
      " 16  Beta_TP10        16 non-null     float64\n",
      " 17  Gamma_TP9        16 non-null     float64\n",
      " 18  Gamma_AF7        16 non-null     float64\n",
      " 19  Gamma_AF8        16 non-null     float64\n",
      " 20  Gamma_TP10       16 non-null     float64\n",
      " 21  RAW_TP9          16 non-null     float64\n",
      " 22  RAW_AF7          16 non-null     float64\n",
      " 23  RAW_AF8          16 non-null     float64\n",
      " 24  RAW_TP10         16 non-null     float64\n",
      " 25  AUX_RIGHT        16 non-null     float64\n",
      " 26  Accelerometer_X  16 non-null     float64\n",
      " 27  Accelerometer_Y  16 non-null     float64\n",
      " 28  Accelerometer_Z  16 non-null     float64\n",
      " 29  Gyro_X           16 non-null     float64\n",
      " 30  Gyro_Y           16 non-null     float64\n",
      " 31  Gyro_Z           16 non-null     float64\n",
      " 32  HeadBandOn       16 non-null     float64\n",
      " 33  HSI_TP9          16 non-null     float64\n",
      " 34  HSI_AF7          16 non-null     float64\n",
      " 35  HSI_AF8          16 non-null     float64\n",
      " 36  HSI_TP10         16 non-null     float64\n",
      " 37  Battery          16 non-null     float64\n",
      " 38  Elements         3 non-null      object \n",
      " 39  Participant      19 non-null     float64\n",
      " 40  Test             19 non-null     object \n",
      " 41  Gender           19 non-null     object \n",
      " 42  English          19 non-null     object \n",
      " 43  Dominance        19 non-null     object \n",
      "dtypes: float64(38), object(6)\n",
      "memory usage: 22.8+ KB\n"
     ]
    }
   ],
   "source": [
    "sample.info()"
   ]
  },
  {
   "cell_type": "markdown",
   "metadata": {},
   "source": [
    "## Data Preprocessing"
   ]
  },
  {
   "cell_type": "markdown",
   "metadata": {},
   "source": [
    "Here we are processing the data to make it more usable for our machine learning models and to pas it to Jordan Bird's code 'EEG_Feature_Extraction.py'"
   ]
  },
  {
   "cell_type": "markdown",
   "metadata": {},
   "source": [
    "### Raw Dataset"
   ]
  },
  {
   "cell_type": "markdown",
   "metadata": {},
   "source": [
    "Extract rows 21-25 from all files, which are are the only 5 features relevant for use in the EEG_feature_extraction function."
   ]
  },
  {
   "cell_type": "code",
   "execution_count": 181,
   "metadata": {},
   "outputs": [
    {
     "data": {
      "text/html": [
       "<div>\n",
       "<style scoped>\n",
       "    .dataframe tbody tr th:only-of-type {\n",
       "        vertical-align: middle;\n",
       "    }\n",
       "\n",
       "    .dataframe tbody tr th {\n",
       "        vertical-align: top;\n",
       "    }\n",
       "\n",
       "    .dataframe thead th {\n",
       "        text-align: right;\n",
       "    }\n",
       "</style>\n",
       "<table border=\"1\" class=\"dataframe\">\n",
       "  <thead>\n",
       "    <tr style=\"text-align: right;\">\n",
       "      <th></th>\n",
       "      <th>0</th>\n",
       "      <th>1</th>\n",
       "      <th>2</th>\n",
       "      <th>3</th>\n",
       "    </tr>\n",
       "  </thead>\n",
       "  <tbody>\n",
       "    <tr>\n",
       "      <th>0</th>\n",
       "      <td>RAW_TP9</td>\n",
       "      <td>RAW_AF7</td>\n",
       "      <td>RAW_AF8</td>\n",
       "      <td>RAW_TP10</td>\n",
       "    </tr>\n",
       "  </tbody>\n",
       "</table>\n",
       "</div>"
      ],
      "text/plain": [
       "         0        1        2         3\n",
       "0  RAW_TP9  RAW_AF7  RAW_AF8  RAW_TP10"
      ]
     },
     "execution_count": 181,
     "metadata": {},
     "output_type": "execute_result"
    }
   ],
   "source": [
    "pd.DataFrame(sample.columns[21:25]).T"
   ]
  },
  {
   "cell_type": "code",
   "execution_count": 182,
   "metadata": {},
   "outputs": [],
   "source": [
    "rowsLHD = []\n",
    "rowsRHD = []\n",
    "\n",
    "for f in leftHandDominant:\n",
    "    for r in range(pd.read_csv(f, encoding = \"ISO-8859-1\").shape[0]):\n",
    "        rowsLHD.append(pd.read_csv(f, encoding = \"ISO-8859-1\").iloc[r, [0, 21, 22, 23, 24, 25]])\n",
    "\n",
    "for f in rightHandDominant:\n",
    "    for r in range(pd.read_csv(f, encoding = \"ISO-8859-1\").shape[0]):\n",
    "        rowsRHD.append(pd.read_csv(f, encoding = \"ISO-8859-1\").iloc[r, [0, 21, 22, 23, 24, 25]])"
   ]
  },
  {
   "cell_type": "markdown",
   "metadata": {},
   "source": [
    "### Convert to Dataframe"
   ]
  },
  {
   "cell_type": "markdown",
   "metadata": {},
   "source": [
    "For the LHD and RHD datasets, we need to convert the data to a dataframe so that we can use the EEG_feature_extraction function.\n",
    "\n",
    "For the LHD"
   ]
  },
  {
   "cell_type": "code",
   "execution_count": 242,
   "metadata": {},
   "outputs": [
    {
     "data": {
      "text/html": [
       "<div>\n",
       "<style scoped>\n",
       "    .dataframe tbody tr th:only-of-type {\n",
       "        vertical-align: middle;\n",
       "    }\n",
       "\n",
       "    .dataframe tbody tr th {\n",
       "        vertical-align: top;\n",
       "    }\n",
       "\n",
       "    .dataframe thead th {\n",
       "        text-align: right;\n",
       "    }\n",
       "</style>\n",
       "<table border=\"1\" class=\"dataframe\">\n",
       "  <thead>\n",
       "    <tr style=\"text-align: right;\">\n",
       "      <th></th>\n",
       "      <th>TimeStamp</th>\n",
       "      <th>RAW_TP9</th>\n",
       "      <th>RAW_AF7</th>\n",
       "      <th>RAW_AF8</th>\n",
       "      <th>RAW_TP10</th>\n",
       "      <th>AUX_RIGHT</th>\n",
       "    </tr>\n",
       "  </thead>\n",
       "  <tbody>\n",
       "    <tr>\n",
       "      <th>0</th>\n",
       "      <td>41:40.0</td>\n",
       "      <td>1297.033</td>\n",
       "      <td>1120.1465</td>\n",
       "      <td>1171.7216</td>\n",
       "      <td>1573.4432</td>\n",
       "      <td>768.3883</td>\n",
       "    </tr>\n",
       "    <tr>\n",
       "      <th>1</th>\n",
       "      <td>41:41.1</td>\n",
       "      <td>213.95604</td>\n",
       "      <td>913.0403</td>\n",
       "      <td>732.1245</td>\n",
       "      <td>65.27473</td>\n",
       "      <td>672.49084</td>\n",
       "    </tr>\n",
       "    <tr>\n",
       "      <th>2</th>\n",
       "      <td>41:42.1</td>\n",
       "      <td>988.7912</td>\n",
       "      <td>672.49084</td>\n",
       "      <td>1021.4286</td>\n",
       "      <td>1385.2748</td>\n",
       "      <td>757.1062</td>\n",
       "    </tr>\n",
       "    <tr>\n",
       "      <th>3</th>\n",
       "      <td>41:43.1</td>\n",
       "      <td>0.0</td>\n",
       "      <td>616.8865</td>\n",
       "      <td>1621.7949</td>\n",
       "      <td>1129.8169</td>\n",
       "      <td>843.3333</td>\n",
       "    </tr>\n",
       "    <tr>\n",
       "      <th>4</th>\n",
       "      <td>41:44.1</td>\n",
       "      <td>120.87912</td>\n",
       "      <td>0.0</td>\n",
       "      <td>0.0</td>\n",
       "      <td>0.0</td>\n",
       "      <td>399.70697</td>\n",
       "    </tr>\n",
       "    <tr>\n",
       "      <th>...</th>\n",
       "      <td>...</td>\n",
       "      <td>...</td>\n",
       "      <td>...</td>\n",
       "      <td>...</td>\n",
       "      <td>...</td>\n",
       "      <td>...</td>\n",
       "    </tr>\n",
       "    <tr>\n",
       "      <th>40</th>\n",
       "      <td>NaN</td>\n",
       "      <td>768.791209</td>\n",
       "      <td>782.893773</td>\n",
       "      <td>683.369963</td>\n",
       "      <td>NaN</td>\n",
       "      <td>NaN</td>\n",
       "    </tr>\n",
       "    <tr>\n",
       "      <th>41</th>\n",
       "      <td>NaN</td>\n",
       "      <td>NaN</td>\n",
       "      <td>NaN</td>\n",
       "      <td>NaN</td>\n",
       "      <td>NaN</td>\n",
       "      <td>NaN</td>\n",
       "    </tr>\n",
       "    <tr>\n",
       "      <th>42</th>\n",
       "      <td>NaN</td>\n",
       "      <td>NaN</td>\n",
       "      <td>NaN</td>\n",
       "      <td>NaN</td>\n",
       "      <td>NaN</td>\n",
       "      <td>NaN</td>\n",
       "    </tr>\n",
       "    <tr>\n",
       "      <th>43</th>\n",
       "      <td>NaN</td>\n",
       "      <td>NaN</td>\n",
       "      <td>NaN</td>\n",
       "      <td>NaN</td>\n",
       "      <td>NaN</td>\n",
       "      <td>NaN</td>\n",
       "    </tr>\n",
       "    <tr>\n",
       "      <th>44</th>\n",
       "      <td>NaN</td>\n",
       "      <td>408.974359</td>\n",
       "      <td>793.772894</td>\n",
       "      <td>1094.761905</td>\n",
       "      <td>NaN</td>\n",
       "      <td>NaN</td>\n",
       "    </tr>\n",
       "  </tbody>\n",
       "</table>\n",
       "<p>3273 rows × 6 columns</p>\n",
       "</div>"
      ],
      "text/plain": [
       "   TimeStamp     RAW_TP9     RAW_AF7      RAW_AF8   RAW_TP10  AUX_RIGHT\n",
       "0    41:40.0    1297.033   1120.1465    1171.7216  1573.4432   768.3883\n",
       "1    41:41.1   213.95604    913.0403     732.1245   65.27473  672.49084\n",
       "2    41:42.1    988.7912   672.49084    1021.4286  1385.2748   757.1062\n",
       "3    41:43.1         0.0    616.8865    1621.7949  1129.8169   843.3333\n",
       "4    41:44.1   120.87912         0.0          0.0        0.0  399.70697\n",
       "..       ...         ...         ...          ...        ...        ...\n",
       "40       NaN  768.791209  782.893773   683.369963        NaN        NaN\n",
       "41       NaN         NaN         NaN          NaN        NaN        NaN\n",
       "42       NaN         NaN         NaN          NaN        NaN        NaN\n",
       "43       NaN         NaN         NaN          NaN        NaN        NaN\n",
       "44       NaN  408.974359  793.772894  1094.761905        NaN        NaN\n",
       "\n",
       "[3273 rows x 6 columns]"
      ]
     },
     "execution_count": 242,
     "metadata": {},
     "output_type": "execute_result"
    }
   ],
   "source": [
    "# get only first 6 rows\n",
    "\n",
    "data_LHD = pd.DataFrame(rowsLHD)\n",
    "data_LHD = data_LHD.iloc[:, 0:6]\n",
    "original_data_LHD = data_LHD.copy()\n",
    "data_LHD"
   ]
  },
  {
   "cell_type": "markdown",
   "metadata": {},
   "source": [
    "And for the RHD"
   ]
  },
  {
   "cell_type": "code",
   "execution_count": 184,
   "metadata": {},
   "outputs": [
    {
     "data": {
      "text/html": [
       "<div>\n",
       "<style scoped>\n",
       "    .dataframe tbody tr th:only-of-type {\n",
       "        vertical-align: middle;\n",
       "    }\n",
       "\n",
       "    .dataframe tbody tr th {\n",
       "        vertical-align: top;\n",
       "    }\n",
       "\n",
       "    .dataframe thead th {\n",
       "        text-align: right;\n",
       "    }\n",
       "</style>\n",
       "<table border=\"1\" class=\"dataframe\">\n",
       "  <thead>\n",
       "    <tr style=\"text-align: right;\">\n",
       "      <th></th>\n",
       "      <th>TimeStamp</th>\n",
       "      <th>RAW_TP9</th>\n",
       "      <th>RAW_AF7</th>\n",
       "      <th>RAW_AF8</th>\n",
       "      <th>RAW_TP10</th>\n",
       "      <th>AUX_RIGHT</th>\n",
       "    </tr>\n",
       "  </thead>\n",
       "  <tbody>\n",
       "    <tr>\n",
       "      <th>0</th>\n",
       "      <td>35:45.4</td>\n",
       "      <td>886.4469</td>\n",
       "      <td>493.99268</td>\n",
       "      <td>1622.1978</td>\n",
       "      <td>0.0</td>\n",
       "      <td>983.1502</td>\n",
       "    </tr>\n",
       "    <tr>\n",
       "      <th>1</th>\n",
       "      <td>35:46.4</td>\n",
       "      <td>784.5055</td>\n",
       "      <td>770.40295</td>\n",
       "      <td>1622.1978</td>\n",
       "      <td>741.39197</td>\n",
       "      <td>836.4835</td>\n",
       "    </tr>\n",
       "    <tr>\n",
       "      <th>2</th>\n",
       "      <td>35:47.4</td>\n",
       "      <td>814.7253</td>\n",
       "      <td>950.9158</td>\n",
       "      <td>602.381</td>\n",
       "      <td>151.90475</td>\n",
       "      <td>781.685</td>\n",
       "    </tr>\n",
       "    <tr>\n",
       "      <th>3</th>\n",
       "      <td>35:48.4</td>\n",
       "      <td>858.6447</td>\n",
       "      <td>833.663</td>\n",
       "      <td>212.34433</td>\n",
       "      <td>1466.6666</td>\n",
       "      <td>826.0073</td>\n",
       "    </tr>\n",
       "    <tr>\n",
       "      <th>4</th>\n",
       "      <td>35:49.4</td>\n",
       "      <td>819.9634</td>\n",
       "      <td>847.3626</td>\n",
       "      <td>466.1905</td>\n",
       "      <td>904.57874</td>\n",
       "      <td>743.4066</td>\n",
       "    </tr>\n",
       "    <tr>\n",
       "      <th>...</th>\n",
       "      <td>...</td>\n",
       "      <td>...</td>\n",
       "      <td>...</td>\n",
       "      <td>...</td>\n",
       "      <td>...</td>\n",
       "      <td>...</td>\n",
       "    </tr>\n",
       "    <tr>\n",
       "      <th>29</th>\n",
       "      <td>NaN</td>\n",
       "      <td>NaN</td>\n",
       "      <td>NaN</td>\n",
       "      <td>NaN</td>\n",
       "      <td>NaN</td>\n",
       "      <td>NaN</td>\n",
       "    </tr>\n",
       "    <tr>\n",
       "      <th>30</th>\n",
       "      <td>NaN</td>\n",
       "      <td>826.4103</td>\n",
       "      <td>283.663</td>\n",
       "      <td>691.02563</td>\n",
       "      <td>NaN</td>\n",
       "      <td>NaN</td>\n",
       "    </tr>\n",
       "    <tr>\n",
       "      <th>31</th>\n",
       "      <td>NaN</td>\n",
       "      <td>788.93774</td>\n",
       "      <td>864.2857</td>\n",
       "      <td>830.84247</td>\n",
       "      <td>NaN</td>\n",
       "      <td>NaN</td>\n",
       "    </tr>\n",
       "    <tr>\n",
       "      <th>32</th>\n",
       "      <td>NaN</td>\n",
       "      <td>784.90845</td>\n",
       "      <td>860.2564</td>\n",
       "      <td>911.8315</td>\n",
       "      <td>NaN</td>\n",
       "      <td>NaN</td>\n",
       "    </tr>\n",
       "    <tr>\n",
       "      <th>33</th>\n",
       "      <td>NaN</td>\n",
       "      <td>NaN</td>\n",
       "      <td>NaN</td>\n",
       "      <td>NaN</td>\n",
       "      <td>NaN</td>\n",
       "      <td>NaN</td>\n",
       "    </tr>\n",
       "  </tbody>\n",
       "</table>\n",
       "<p>13706 rows × 6 columns</p>\n",
       "</div>"
      ],
      "text/plain": [
       "   TimeStamp    RAW_TP9    RAW_AF7    RAW_AF8   RAW_TP10 AUX_RIGHT\n",
       "0    35:45.4   886.4469  493.99268  1622.1978        0.0  983.1502\n",
       "1    35:46.4   784.5055  770.40295  1622.1978  741.39197  836.4835\n",
       "2    35:47.4   814.7253   950.9158    602.381  151.90475   781.685\n",
       "3    35:48.4   858.6447    833.663  212.34433  1466.6666  826.0073\n",
       "4    35:49.4   819.9634   847.3626   466.1905  904.57874  743.4066\n",
       "..       ...        ...        ...        ...        ...       ...\n",
       "29       NaN        NaN        NaN        NaN        NaN       NaN\n",
       "30       NaN   826.4103    283.663  691.02563        NaN       NaN\n",
       "31       NaN  788.93774   864.2857  830.84247        NaN       NaN\n",
       "32       NaN  784.90845   860.2564   911.8315        NaN       NaN\n",
       "33       NaN        NaN        NaN        NaN        NaN       NaN\n",
       "\n",
       "[13706 rows x 6 columns]"
      ]
     },
     "execution_count": 184,
     "metadata": {},
     "output_type": "execute_result"
    }
   ],
   "source": [
    "data_RHD = pd.DataFrame(rowsRHD)\n",
    "data_RHD = data_RHD.iloc[:, 0:6]\n",
    "original_data_RHD = data_RHD.copy()\n",
    "data_RHD"
   ]
  },
  {
   "cell_type": "markdown",
   "metadata": {},
   "source": [
    "Check dataframes"
   ]
  },
  {
   "cell_type": "code",
   "execution_count": 185,
   "metadata": {},
   "outputs": [
    {
     "name": "stdout",
     "output_type": "stream",
     "text": [
      "LHD Data size is: \t(3273, 6) \n",
      "RHD Data size is: \t\t(13706, 6)\n"
     ]
    }
   ],
   "source": [
    "print(f\"LHD Data size is: \\t{data_LHD.shape}\", f\"\\nRHD Data size is: \\t\\t{data_RHD.shape}\")"
   ]
  },
  {
   "cell_type": "markdown",
   "metadata": {},
   "source": [
    "### Remove Empty Rows"
   ]
  },
  {
   "cell_type": "markdown",
   "metadata": {},
   "source": [
    "Remove NaN rows from the dataframes"
   ]
  },
  {
   "cell_type": "code",
   "execution_count": 186,
   "metadata": {},
   "outputs": [],
   "source": [
    "data_LHD = data_LHD.dropna()\n",
    "data_RHD = data_RHD.dropna()"
   ]
  },
  {
   "cell_type": "markdown",
   "metadata": {},
   "source": [
    "Check dataframes again"
   ]
  },
  {
   "cell_type": "code",
   "execution_count": 187,
   "metadata": {},
   "outputs": [
    {
     "name": "stdout",
     "output_type": "stream",
     "text": [
      "LHD Data size is: \t(1132, 6) \n",
      "RHD Data size is: \t\t(5498, 6)\n"
     ]
    }
   ],
   "source": [
    "print(f\"LHD Data size is: \\t{data_LHD.shape}\", f\"\\nRHD Data size is: \\t\\t{data_RHD.shape}\")"
   ]
  },
  {
   "cell_type": "markdown",
   "metadata": {},
   "source": [
    "### Converted Datetime Column to Timestamps"
   ]
  },
  {
   "cell_type": "markdown",
   "metadata": {},
   "source": [
    "Needed for compatibility with EEG_feature_extraction function"
   ]
  },
  {
   "cell_type": "code",
   "execution_count": 244,
   "metadata": {},
   "outputs": [
    {
     "name": "stdout",
     "output_type": "stream",
     "text": [
      "<class 'datetime.datetime'>\n"
     ]
    },
    {
     "ename": "ValueError",
     "evalue": "time data '1900-01-01 00:41:40' does not match format '%M:%S.%f'",
     "output_type": "error",
     "traceback": [
      "\u001b[1;31m---------------------------------------------------------------------------\u001b[0m",
      "\u001b[1;31mValueError\u001b[0m                                Traceback (most recent call last)",
      "\u001b[1;32m~\\AppData\\Local\\Temp/ipykernel_10124/2765668670.py\u001b[0m in \u001b[0;36m<module>\u001b[1;34m\u001b[0m\n\u001b[0;32m      5\u001b[0m     \u001b[1;31m# convert t to timestamp\u001b[0m\u001b[1;33m\u001b[0m\u001b[1;33m\u001b[0m\u001b[0m\n\u001b[0;32m      6\u001b[0m     \u001b[0mprint\u001b[0m\u001b[1;33m(\u001b[0m\u001b[0mtype\u001b[0m\u001b[1;33m(\u001b[0m\u001b[0mtime\u001b[0m\u001b[1;33m)\u001b[0m\u001b[1;33m)\u001b[0m\u001b[1;33m\u001b[0m\u001b[1;33m\u001b[0m\u001b[0m\n\u001b[1;32m----> 7\u001b[1;33m     \u001b[0mdate_time\u001b[0m \u001b[1;33m=\u001b[0m \u001b[0mdt\u001b[0m\u001b[1;33m.\u001b[0m\u001b[0mdatetime\u001b[0m\u001b[1;33m.\u001b[0m\u001b[0mstrptime\u001b[0m\u001b[1;33m(\u001b[0m\u001b[0mstr\u001b[0m\u001b[1;33m(\u001b[0m\u001b[0mtime\u001b[0m\u001b[1;33m)\u001b[0m\u001b[1;33m,\u001b[0m \u001b[1;34m'%M:%S.%f'\u001b[0m\u001b[1;33m)\u001b[0m\u001b[1;33m\u001b[0m\u001b[1;33m\u001b[0m\u001b[0m\n\u001b[0m\u001b[0;32m      8\u001b[0m     \u001b[0mprint\u001b[0m\u001b[1;33m(\u001b[0m\u001b[0mtype\u001b[0m\u001b[1;33m(\u001b[0m\u001b[0mdate_time\u001b[0m\u001b[1;33m)\u001b[0m\u001b[1;33m)\u001b[0m\u001b[1;33m\u001b[0m\u001b[1;33m\u001b[0m\u001b[0m\n\u001b[0;32m      9\u001b[0m     \u001b[0mdata_LHD\u001b[0m\u001b[1;33m.\u001b[0m\u001b[0miloc\u001b[0m\u001b[1;33m[\u001b[0m\u001b[0mind\u001b[0m\u001b[1;33m,\u001b[0m \u001b[1;36m0\u001b[0m\u001b[1;33m]\u001b[0m \u001b[1;33m=\u001b[0m \u001b[0mdate_time\u001b[0m\u001b[1;33m\u001b[0m\u001b[1;33m\u001b[0m\u001b[0m\n",
      "\u001b[1;32mc:\\Users\\jtsan\\anaconda3\\lib\\_strptime.py\u001b[0m in \u001b[0;36m_strptime_datetime\u001b[1;34m(cls, data_string, format)\u001b[0m\n\u001b[0;32m    566\u001b[0m     \"\"\"Return a class cls instance based on the input string and the\n\u001b[0;32m    567\u001b[0m     format string.\"\"\"\n\u001b[1;32m--> 568\u001b[1;33m     \u001b[0mtt\u001b[0m\u001b[1;33m,\u001b[0m \u001b[0mfraction\u001b[0m\u001b[1;33m,\u001b[0m \u001b[0mgmtoff_fraction\u001b[0m \u001b[1;33m=\u001b[0m \u001b[0m_strptime\u001b[0m\u001b[1;33m(\u001b[0m\u001b[0mdata_string\u001b[0m\u001b[1;33m,\u001b[0m \u001b[0mformat\u001b[0m\u001b[1;33m)\u001b[0m\u001b[1;33m\u001b[0m\u001b[1;33m\u001b[0m\u001b[0m\n\u001b[0m\u001b[0;32m    569\u001b[0m     \u001b[0mtzname\u001b[0m\u001b[1;33m,\u001b[0m \u001b[0mgmtoff\u001b[0m \u001b[1;33m=\u001b[0m \u001b[0mtt\u001b[0m\u001b[1;33m[\u001b[0m\u001b[1;33m-\u001b[0m\u001b[1;36m2\u001b[0m\u001b[1;33m:\u001b[0m\u001b[1;33m]\u001b[0m\u001b[1;33m\u001b[0m\u001b[1;33m\u001b[0m\u001b[0m\n\u001b[0;32m    570\u001b[0m     \u001b[0margs\u001b[0m \u001b[1;33m=\u001b[0m \u001b[0mtt\u001b[0m\u001b[1;33m[\u001b[0m\u001b[1;33m:\u001b[0m\u001b[1;36m6\u001b[0m\u001b[1;33m]\u001b[0m \u001b[1;33m+\u001b[0m \u001b[1;33m(\u001b[0m\u001b[0mfraction\u001b[0m\u001b[1;33m,\u001b[0m\u001b[1;33m)\u001b[0m\u001b[1;33m\u001b[0m\u001b[1;33m\u001b[0m\u001b[0m\n",
      "\u001b[1;32mc:\\Users\\jtsan\\anaconda3\\lib\\_strptime.py\u001b[0m in \u001b[0;36m_strptime\u001b[1;34m(data_string, format)\u001b[0m\n\u001b[0;32m    347\u001b[0m     \u001b[0mfound\u001b[0m \u001b[1;33m=\u001b[0m \u001b[0mformat_regex\u001b[0m\u001b[1;33m.\u001b[0m\u001b[0mmatch\u001b[0m\u001b[1;33m(\u001b[0m\u001b[0mdata_string\u001b[0m\u001b[1;33m)\u001b[0m\u001b[1;33m\u001b[0m\u001b[1;33m\u001b[0m\u001b[0m\n\u001b[0;32m    348\u001b[0m     \u001b[1;32mif\u001b[0m \u001b[1;32mnot\u001b[0m \u001b[0mfound\u001b[0m\u001b[1;33m:\u001b[0m\u001b[1;33m\u001b[0m\u001b[1;33m\u001b[0m\u001b[0m\n\u001b[1;32m--> 349\u001b[1;33m         raise ValueError(\"time data %r does not match format %r\" %\n\u001b[0m\u001b[0;32m    350\u001b[0m                          (data_string, format))\n\u001b[0;32m    351\u001b[0m     \u001b[1;32mif\u001b[0m \u001b[0mlen\u001b[0m\u001b[1;33m(\u001b[0m\u001b[0mdata_string\u001b[0m\u001b[1;33m)\u001b[0m \u001b[1;33m!=\u001b[0m \u001b[0mfound\u001b[0m\u001b[1;33m.\u001b[0m\u001b[0mend\u001b[0m\u001b[1;33m(\u001b[0m\u001b[1;33m)\u001b[0m\u001b[1;33m:\u001b[0m\u001b[1;33m\u001b[0m\u001b[1;33m\u001b[0m\u001b[0m\n",
      "\u001b[1;31mValueError\u001b[0m: time data '1900-01-01 00:41:40' does not match format '%M:%S.%f'"
     ]
    }
   ],
   "source": [
    "import datetime as dt\n",
    "\n",
    "ind = 0\n",
    "for time in data_LHD.iloc[:, 0]:\n",
    "    # convert t to timestamp\n",
    "    print(type(time))\n",
    "    date_time = dt.datetime.strptime(str(time), '%M:%S.%f')\n",
    "    print(type(date_time))\n",
    "    data_LHD.iloc[ind, 0] = date_time\n",
    "    ind += 1 \n",
    "    \n",
    "    \n",
    "# ind = 0\n",
    "# for time in data_RHD.iloc[:, 0]:\n",
    "#     # convert to datetime object from string in format: 00:00.0\n",
    "#     data_RHD.iloc[ind, 0] = datetime.strptime(str(time), '%M:%S.%f')\n",
    "#     ind += 1"
   ]
  },
  {
   "cell_type": "markdown",
   "metadata": {},
   "source": [
    "Quick check of the dataframes"
   ]
  },
  {
   "cell_type": "code",
   "execution_count": 189,
   "metadata": {},
   "outputs": [
    {
     "data": {
      "text/html": [
       "<div>\n",
       "<style scoped>\n",
       "    .dataframe tbody tr th:only-of-type {\n",
       "        vertical-align: middle;\n",
       "    }\n",
       "\n",
       "    .dataframe tbody tr th {\n",
       "        vertical-align: top;\n",
       "    }\n",
       "\n",
       "    .dataframe thead th {\n",
       "        text-align: right;\n",
       "    }\n",
       "</style>\n",
       "<table border=\"1\" class=\"dataframe\">\n",
       "  <thead>\n",
       "    <tr style=\"text-align: right;\">\n",
       "      <th></th>\n",
       "      <th>TimeStamp</th>\n",
       "      <th>RAW_TP9</th>\n",
       "      <th>RAW_AF7</th>\n",
       "      <th>RAW_AF8</th>\n",
       "      <th>RAW_TP10</th>\n",
       "      <th>AUX_RIGHT</th>\n",
       "    </tr>\n",
       "  </thead>\n",
       "  <tbody>\n",
       "    <tr>\n",
       "      <th>0</th>\n",
       "      <td>41:40.0</td>\n",
       "      <td>1297.033</td>\n",
       "      <td>1120.1465</td>\n",
       "      <td>1171.7216</td>\n",
       "      <td>1573.4432</td>\n",
       "      <td>768.3883</td>\n",
       "    </tr>\n",
       "    <tr>\n",
       "      <th>1</th>\n",
       "      <td>41:41.1</td>\n",
       "      <td>213.95604</td>\n",
       "      <td>913.0403</td>\n",
       "      <td>732.1245</td>\n",
       "      <td>65.27473</td>\n",
       "      <td>672.49084</td>\n",
       "    </tr>\n",
       "    <tr>\n",
       "      <th>2</th>\n",
       "      <td>41:42.1</td>\n",
       "      <td>988.7912</td>\n",
       "      <td>672.49084</td>\n",
       "      <td>1021.4286</td>\n",
       "      <td>1385.2748</td>\n",
       "      <td>757.1062</td>\n",
       "    </tr>\n",
       "    <tr>\n",
       "      <th>3</th>\n",
       "      <td>41:43.1</td>\n",
       "      <td>0.0</td>\n",
       "      <td>616.8865</td>\n",
       "      <td>1621.7949</td>\n",
       "      <td>1129.8169</td>\n",
       "      <td>843.3333</td>\n",
       "    </tr>\n",
       "    <tr>\n",
       "      <th>4</th>\n",
       "      <td>41:44.1</td>\n",
       "      <td>120.87912</td>\n",
       "      <td>0.0</td>\n",
       "      <td>0.0</td>\n",
       "      <td>0.0</td>\n",
       "      <td>399.70697</td>\n",
       "    </tr>\n",
       "    <tr>\n",
       "      <th>...</th>\n",
       "      <td>...</td>\n",
       "      <td>...</td>\n",
       "      <td>...</td>\n",
       "      <td>...</td>\n",
       "      <td>...</td>\n",
       "      <td>...</td>\n",
       "    </tr>\n",
       "    <tr>\n",
       "      <th>16</th>\n",
       "      <td>20:52.6</td>\n",
       "      <td>809.48718</td>\n",
       "      <td>752.673993</td>\n",
       "      <td>813.113553</td>\n",
       "      <td>814.725275</td>\n",
       "      <td>772.820513</td>\n",
       "    </tr>\n",
       "    <tr>\n",
       "      <th>18</th>\n",
       "      <td>20:53.6</td>\n",
       "      <td>820.769231</td>\n",
       "      <td>766.776557</td>\n",
       "      <td>894.908425</td>\n",
       "      <td>761.538462</td>\n",
       "      <td>830.43956</td>\n",
       "    </tr>\n",
       "    <tr>\n",
       "      <th>21</th>\n",
       "      <td>20:54.6</td>\n",
       "      <td>778.864469</td>\n",
       "      <td>782.087912</td>\n",
       "      <td>640.25641</td>\n",
       "      <td>808.681319</td>\n",
       "      <td>729.304029</td>\n",
       "    </tr>\n",
       "    <tr>\n",
       "      <th>23</th>\n",
       "      <td>20:55.6</td>\n",
       "      <td>835.274725</td>\n",
       "      <td>858.241758</td>\n",
       "      <td>819.56044</td>\n",
       "      <td>881.611722</td>\n",
       "      <td>626.959707</td>\n",
       "    </tr>\n",
       "    <tr>\n",
       "      <th>25</th>\n",
       "      <td>20:56.6</td>\n",
       "      <td>882.820513</td>\n",
       "      <td>833.663004</td>\n",
       "      <td>705.934066</td>\n",
       "      <td>897.728938</td>\n",
       "      <td>801.831502</td>\n",
       "    </tr>\n",
       "  </tbody>\n",
       "</table>\n",
       "<p>1132 rows × 6 columns</p>\n",
       "</div>"
      ],
      "text/plain": [
       "   TimeStamp     RAW_TP9     RAW_AF7     RAW_AF8    RAW_TP10   AUX_RIGHT\n",
       "0    41:40.0    1297.033   1120.1465   1171.7216   1573.4432    768.3883\n",
       "1    41:41.1   213.95604    913.0403    732.1245    65.27473   672.49084\n",
       "2    41:42.1    988.7912   672.49084   1021.4286   1385.2748    757.1062\n",
       "3    41:43.1         0.0    616.8865   1621.7949   1129.8169    843.3333\n",
       "4    41:44.1   120.87912         0.0         0.0         0.0   399.70697\n",
       "..       ...         ...         ...         ...         ...         ...\n",
       "16   20:52.6   809.48718  752.673993  813.113553  814.725275  772.820513\n",
       "18   20:53.6  820.769231  766.776557  894.908425  761.538462   830.43956\n",
       "21   20:54.6  778.864469  782.087912   640.25641  808.681319  729.304029\n",
       "23   20:55.6  835.274725  858.241758   819.56044  881.611722  626.959707\n",
       "25   20:56.6  882.820513  833.663004  705.934066  897.728938  801.831502\n",
       "\n",
       "[1132 rows x 6 columns]"
      ]
     },
     "execution_count": 189,
     "metadata": {},
     "output_type": "execute_result"
    }
   ],
   "source": [
    "data_LHD"
   ]
  },
  {
   "cell_type": "markdown",
   "metadata": {},
   "source": []
  }
 ],
 "metadata": {
  "kernelspec": {
   "display_name": "Python 3.9.7 ('base')",
   "language": "python",
   "name": "python3"
  },
  "language_info": {
   "codemirror_mode": {
    "name": "ipython",
    "version": 3
   },
   "file_extension": ".py",
   "mimetype": "text/x-python",
   "name": "python",
   "nbconvert_exporter": "python",
   "pygments_lexer": "ipython3",
   "version": "3.9.7"
  },
  "orig_nbformat": 4,
  "vscode": {
   "interpreter": {
    "hash": "124e47c1ad6ceb91c3ceb1dde65cfb37b91587009ebc216d439d411f4704dda1"
   }
  }
 },
 "nbformat": 4,
 "nbformat_minor": 2
}
