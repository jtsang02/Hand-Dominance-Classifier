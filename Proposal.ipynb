{
 "cells": [
  {
   "cell_type": "markdown",
   "id": "675303a8",
   "metadata": {},
   "source": [
    "# MANU 465 Proposal"
   ]
  },
  {
   "cell_type": "markdown",
   "id": "b689e604",
   "metadata": {},
   "source": [
    "## Project Idea"
   ]
  },
  {
   "cell_type": "markdown",
   "id": "5e6e868f",
   "metadata": {},
   "source": [
    "One of the most impressive aspects of Machine Learning and Artificial Intelligence (AI) is the ability to understand the relationship between handedness and BCI (Brian Computer Interface). Upon learning about the powerful machine learning models and tools in this course, we are curious to see how our brains determine left or right hand dominance and further study the complexity of our minds. The opportunity to collect and analyze data related to brainwaves is a unique experience of our undergraduate program, and our goal of this project is to understand how brainwave data within humans influences our decision to establish hand dominance using Machine Learning and AI."
   ]
  },
  {
   "cell_type": "markdown",
   "id": "127660ff",
   "metadata": {},
   "source": [
    "## Motivation"
   ]
  },
  {
   "cell_type": "markdown",
   "id": "b97e115e",
   "metadata": {},
   "source": [
    "Motivation (3/20)\n",
    "- Why are we interested in this topic?\n",
    "- What general use could our findings be used for\n"
   ]
  },
  {
   "cell_type": "markdown",
   "id": "0f040c14",
   "metadata": {},
   "source": [
    "The hand dominance effect is one essential characteristic of hemispheric specialization in the human motor system. Independent of cultural and historical backgrounds, around 90% of humans prefer to use their right hand for skilled manipulation [1]. Understanding the brainwave of hand dominance is important for building a Brain-computer interface (BCI) as studies have suggested that handedness could contribute to the performance variations of BCI, especially when implementing motor imagery (MI) tasks [2]. Specifically, studies show the power of sensorimotor rhythms (SMR) measured differs according to handedness. The Sensorimotor Rhythm (SMR) is an oscillatory idle rhythm of synchronized electric brain activity with a brainwave frequency between alpha and beta waves (12-15 Hz) [3]. \n",
    "\n",
    "It is interesting to collect and process brainwaves and investigate the difference in brain waves for left and right-handed users. The result can potentially contribute to building a more accurate and effective BCI. In addition, building a machine learning classification model to predict hand dominance is important. Research suggests that there is an intimate association between hand dominance and brain specialization. It also provides an opportunity for parents to predict the hand preference of babies.\n"
   ]
  },
  {
   "cell_type": "markdown",
   "id": "72e13f2f",
   "metadata": {},
   "source": [
    "## Objective and Goals"
   ]
  },
  {
   "cell_type": "markdown",
   "id": "f4fff8e6",
   "metadata": {},
   "source": [
    "Objective / Goal (4/20)\n",
    "- What value is obtained from our results?\n",
    "- How could our machine learning models?\n"
   ]
  },
  {
   "cell_type": "markdown",
   "id": "bca1c3fa",
   "metadata": {},
   "source": [
    "The objective of this study was to use machine learning models to predict the dominant hand of a person, whether left-handed or right-handed based on the brainwave data collected by MUSE 2.  Muse 2 is a multi-sensor electroencephalograph (EEG) device that provides real-time biofeedback on brain activity, heartbeat, breathing, and movement by attaching a set of electrodes to the scalp to measure the electrical activity of the brain. "
   ]
  },
  {
   "cell_type": "markdown",
   "id": "4e57f972",
   "metadata": {},
   "source": [
    "## Frameworks"
   ]
  },
  {
   "cell_type": "markdown",
   "id": "c9943d57",
   "metadata": {},
   "source": [
    "### Electroencephalography (EEG)"
   ]
  },
  {
   "cell_type": "markdown",
   "id": "4d88cede",
   "metadata": {},
   "source": [
    "An electroencephalogram (EEG) is a powerful medical diagnosis test that detects abnormalities in brain waves by allowing the electrical activity of the brain to be monitored. EEG tracks and records brain wave patterns by measuring the voltage fluctuations in the brain which result from neuronal activity.  The electric pulses in an EEG recording are sinusoidal in nature and this allows medical professionals to rapidly evaluate irregularitiies."
   ]
  },
  {
   "cell_type": "markdown",
   "id": "42249204",
   "metadata": {},
   "source": [
    "## Proposed Methods"
   ]
  },
  {
   "cell_type": "markdown",
   "id": "7c67bc63",
   "metadata": {},
   "source": [
    "Proposed Methods (5/20)\n",
    "- What will our experiments look like\n",
    "        What are our tests\n",
    "        How long will they last (ex: 5 tests, 2 min each)\n",
    "        How much data are we collecting overall\n",
    "        How are limitations of the Muse headset affecting our tests\n",
    "            Muse is not very reliable when subjects move their heads\n",
    "- Who are we investigating\n",
    "        Demographic\n",
    "        How are we choosing these people\n",
    "- What waves could we look at\n",
    "- How would we filter the data\n",
    "- Potential ML Algorithms to use\n",
    "\n",
    "* The professor explained that we don’t have to go super into detail here. It would probably be best to propose some methods we could follow from other existing papers.\n"
   ]
  },
  {
   "cell_type": "markdown",
   "id": "0ff524fe",
   "metadata": {},
   "source": [
    "## Project Schedule"
   ]
  },
  {
   "cell_type": "markdown",
   "id": "e47801d7",
   "metadata": {},
   "source": [
    "Plan (4/20)\n",
    "- Schedule\n",
    "- Gantt chart?\n",
    "- Materials needed\n",
    "- Where are we doing this?\n",
    "- Are we just using paper + pen?\n",
    "- Maybe we’re printing out prompts to fill? This likely isn’t important\n",
    "- Consideration of Safety or other factors\n",
    "Covid?\n"
   ]
  },
  {
   "cell_type": "code",
   "execution_count": null,
   "id": "c1931e3d",
   "metadata": {},
   "outputs": [],
   "source": []
  }
 ],
 "metadata": {
  "kernelspec": {
   "display_name": "Python 3 (ipykernel)",
   "language": "python",
   "name": "python3"
  },
  "language_info": {
   "codemirror_mode": {
    "name": "ipython",
    "version": 3
   },
   "file_extension": ".py",
   "mimetype": "text/x-python",
   "name": "python",
   "nbconvert_exporter": "python",
   "pygments_lexer": "ipython3",
   "version": "3.9.7"
  },
  "toc": {
   "base_numbering": "1.0",
   "nav_menu": {},
   "number_sections": true,
   "sideBar": true,
   "skip_h1_title": true,
   "title_cell": "Table of Contents",
   "title_sidebar": "Contents",
   "toc_cell": false,
   "toc_position": {
    "height": "calc(100% - 180px)",
    "left": "10px",
    "top": "150px",
    "width": "165px"
   },
   "toc_section_display": true,
   "toc_window_display": true
  }
 },
 "nbformat": 4,
 "nbformat_minor": 5
}
