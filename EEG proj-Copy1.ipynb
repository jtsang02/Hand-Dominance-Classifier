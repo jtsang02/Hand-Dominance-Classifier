{
 "cells": [
  {
   "cell_type": "code",
   "execution_count": 2,
   "id": "6e44beaa",
   "metadata": {},
   "outputs": [
    {
     "name": "stderr",
     "output_type": "stream",
     "text": [
      "2022-11-23 20:12:57.937517: I tensorflow/core/platform/cpu_feature_guard.cc:193] This TensorFlow binary is optimized with oneAPI Deep Neural Network Library (oneDNN) to use the following CPU instructions in performance-critical operations:  AVX2 FMA\n",
      "To enable them in other operations, rebuild TensorFlow with the appropriate compiler flags.\n"
     ]
    }
   ],
   "source": [
    "import tensorflow as tf\n",
    "import numpy as np\n",
    "import matplotlib.pyplot as plt\n",
    "import pandas as pd\n",
    "import tensorflow.keras as kr\n",
    "import seaborn as sns\n",
    "import os\n",
    "import glob"
   ]
  },
  {
   "cell_type": "code",
   "execution_count": 3,
   "id": "b7b4dc27",
   "metadata": {},
   "outputs": [],
   "source": [
    "os.chdir(r\"/Users/sofiacaltabiano/Desktop/MANU_465/Project/Dominance\")"
   ]
  },
  {
   "cell_type": "code",
   "execution_count": 4,
   "id": "77d2cfb6",
   "metadata": {},
   "outputs": [],
   "source": [
    "extension = 'csv'\n",
    "all_filenames_dominance = [i for i in glob.glob('*.{}'.format(extension))]"
   ]
  },
  {
   "cell_type": "code",
   "execution_count": 5,
   "id": "951d5a56",
   "metadata": {
    "scrolled": true
   },
   "outputs": [
    {
     "name": "stdout",
     "output_type": "stream",
     "text": [
      "['RHC-207.csv', 'RHC-213.csv', 'RHS-222.csv', 'RHS-223.csv', 'RHC-212.csv', 'RHC-206.csv', 'RHC-210.csv', 'LHC-215.csv', 'RHS-221.csv', 'RHS-209.csv', 'RHS-234.csv', 'RHS-220.csv', 'LHC-214.csv', 'RHC-211.csv', 'RHC-229.csv', 'LHS-235.csv', 'RHS-218.csv', 'RHS-224.csv', 'RHS-230.csv', 'RHS-231.csv', 'RHS-225.csv', 'RHS-219.csv', 'LHS-208.csv', 'LHC-205.csv', 'RHC-228.csv', 'RHC-216.csv', 'RHS-233.csv', 'RHS-227.csv', 'RHS-226.csv', 'RHS-232.csv', 'RHC-217.csv', 'RHC-112.csv', 'RHC-106.csv', 'LHC-103.csv', 'LHS-126.csv', 'RHS-123.csv', 'RHS-137.csv', 'RHS-136.csv', 'LHC-102.csv', 'RHC-107.csv', 'RHC-113.csv', 'RHC-139.csv', 'RHC-105.csv', 'RHC-111.csv', 'RHS-134.csv', 'RHS-120.csv', 'RHS-108.csv', 'RHS-109.csv', 'RHS-121.csv', 'RHS-135.csv', 'LHC-101.csv', 'RHC-110.csv', 'RHC-104.csv', 'RHC-138.csv', 'RHC-114.csv', 'RHC-128.csv', 'RHS-119.csv', 'RHS-131.csv', 'RHS-124.csv', 'RHS-130.csv', 'RHS-118.csv', 'RHC-129.csv', 'RHC-115.csv', 'RHC-117.csv', 'RHS-132.csv', 'RHS-133.csv', 'RHS-127.csv', 'LHS-122.csv', 'RHC-116.csv', 'RHC-133.csv', 'RHC-127.csv', 'LHC-122.csv', 'RHS-116.csv', 'RHS-117.csv', 'RHC-132.csv', 'RHC-118.csv', 'RHC-124.csv', 'RHC-130.csv', 'RHS-115.csv', 'RHS-129.csv', 'RHS-128.csv', 'RHS-114.csv', 'RHC-131.csv', 'RHC-119.csv', 'RHC-121.csv', 'RHC-135.csv', 'RHC-109.csv', 'LHS-101.csv', 'RHS-138.csv', 'RHS-110.csv', 'RHS-104.csv', 'RHS-105.csv', 'RHS-111.csv', 'RHS-139.csv', 'RHC-108.csv', 'RHC-134.csv', 'RHC-120.csv', 'RHC-136.csv', 'LHS-102.csv', 'RHS-107.csv', 'RHS-113.csv', 'RHS-112.csv', 'RHS-106.csv', 'LHS-103.csv', 'LHC-126.csv', 'RHC-123.csv', 'RHC-137.csv', 'RHC-226.csv', 'RHC-232.csv', 'RHS-217.csv', 'RHS-216.csv', 'RHC-233.csv', 'RHC-227.csv', 'RHC-219.csv', 'RHC-231.csv', 'RHC-225.csv', 'LHC-208.csv', 'LHS-205.csv', 'RHS-228.csv', 'RHS-229.csv', 'LHC-235.csv', 'RHC-224.csv', 'RHC-230.csv', 'RHC-218.csv', 'RHC-234.csv', 'RHC-220.csv', 'LHS-214.csv', 'RHS-211.csv', 'RHS-210.csv', 'LHS-215.csv', 'RHC-209.csv', 'RHC-221.csv', 'RHC-223.csv', 'RHS-212.csv', 'RHS-206.csv', 'RHS-207.csv', 'RHS-213.csv', 'RHC-222.csv']\n"
     ]
    }
   ],
   "source": [
    "print (all_filenames_dominance)"
   ]
  },
  {
   "cell_type": "code",
   "execution_count": 6,
   "id": "477ff2f9",
   "metadata": {},
   "outputs": [],
   "source": [
    "os.chdir(r\"/Users/sofiacaltabiano/Desktop/MANU_465/Project/NonDominance\")"
   ]
  },
  {
   "cell_type": "code",
   "execution_count": 7,
   "id": "1182ef38",
   "metadata": {},
   "outputs": [],
   "source": [
    "extension = 'csv'\n",
    "all_filenames_nondom = [i for i in glob.glob('*.{}'.format(extension))]"
   ]
  },
  {
   "cell_type": "code",
   "execution_count": 8,
   "id": "1d5fda28",
   "metadata": {},
   "outputs": [
    {
     "data": {
      "text/plain": [
       "273"
      ]
     },
     "execution_count": 8,
     "metadata": {},
     "output_type": "execute_result"
    }
   ],
   "source": [
    "all_filenames = all_filenames_nondom + all_filenames_dominance\n",
    "len(all_filenames)"
   ]
  },
  {
   "cell_type": "code",
   "execution_count": 9,
   "id": "bb7acd3a",
   "metadata": {},
   "outputs": [],
   "source": [
    "new_dataset = []\n",
    "for i in range(len(all_filenames)):\n",
    "    data_new = pd.read_csv(all_filenames[i])\n",
    "    data_new = data_new.drop(['Elements'], axis=1)\n",
    "    data_new = data_new.dropna()\n",
    "    data_new = data_new.reset_index(drop=True)\n",
    "    delta = []\n",
    "    vec1 = np.array(data_new['Delta_TP9'])\n",
    "    vec1_appr = (np.add.reduceat(vec1, np.arange(0, len(vec1), 4)))/4\n",
    "    result_bad1 = np.all(vec1_appr[1] == vec1_appr[0])\n",
    "    if not (result_bad1):\n",
    "        delta.append(vec1)\n",
    "    vec2 = np.array(data_new['Delta_AF7'])\n",
    "    vec2_appr = (np.add.reduceat(vec2, np.arange(0, len(vec2), 4)))/4\n",
    "    result_bad2 = np.all(vec2_appr[1] == vec2_appr[0])\n",
    "    if not (result_bad2):\n",
    "        delta.append(vec2)\n",
    "    vec3 = np.array(data_new['Delta_AF8'])\n",
    "    vec3_appr = (np.add.reduceat(vec3, np.arange(0, len(vec3), 4)))/4\n",
    "    result_bad3 = np.all(vec3_appr[1] == vec3_appr[0])\n",
    "    if not (result_bad3):\n",
    "        delta.append(vec3)\n",
    "    vec4 = np.array(data_new['Delta_TP10'])\n",
    "    vec4_appr = (np.add.reduceat(vec4, np.arange(0, len(vec4), 4)))/4\n",
    "    result_bad4 = np.all(vec4_appr[1] == vec4_appr[0])\n",
    "    if not (result_bad4):\n",
    "        delta.append(vec4)\n",
    "    theta = []\n",
    "    vec1 = np.array(data_new['Theta_TP9'])\n",
    "    vec1_appr = (np.add.reduceat(vec1, np.arange(0, len(vec1), 4)))/4\n",
    "    result_bad1 = np.all(vec1_appr[1] == vec1_appr[0])\n",
    "    if not (result_bad1):\n",
    "        theta.append(vec1)\n",
    "    vec2 = np.array(data_new['Theta_AF7'])\n",
    "    vec2_appr = (np.add.reduceat(vec2, np.arange(0, len(vec2), 4)))/4\n",
    "    result_bad2 = np.all(vec2_appr[1] == vec2_appr[0])\n",
    "    if not (result_bad2):\n",
    "        theta.append(vec2)\n",
    "    vec3 = np.array(data_new['Theta_AF8'])\n",
    "    vec3_appr = (np.add.reduceat(vec3, np.arange(0, len(vec3), 4)))/4\n",
    "    result_bad3 = np.all(vec3_appr[1] == vec3_appr[0])\n",
    "    if not (result_bad3):\n",
    "        theta.append(vec3)\n",
    "    vec4 = np.array(data_new['Theta_TP10'])\n",
    "    vec4_appr = (np.add.reduceat(vec4, np.arange(0, len(vec4), 4)))/4\n",
    "    result_bad4 = np.all(vec4_appr[1] == vec4_appr[0])\n",
    "    if not (result_bad4):\n",
    "        theta.append(vec4)\n",
    "    beta = []\n",
    "    vec1 = np.array(data_new['Beta_TP9'])\n",
    "    vec1_appr = (np.add.reduceat(vec1, np.arange(0, len(vec1), 4)))/4\n",
    "    result_bad1 = np.all(vec1_appr[1] == vec1_appr[0])\n",
    "    if not (result_bad1):\n",
    "        beta.append(vec1)\n",
    "    vec2 = np.array(data_new['Beta_AF7'])\n",
    "    vec2_appr = (np.add.reduceat(vec2, np.arange(0, len(vec2), 4)))/4\n",
    "    result_bad2 = np.all(vec2_appr[1] == vec2_appr[0])\n",
    "    if not (result_bad2):\n",
    "        beta.append(vec2)\n",
    "    vec3 = np.array(data_new['Beta_AF8'])\n",
    "    vec3_appr = (np.add.reduceat(vec3, np.arange(0, len(vec3), 4)))/4\n",
    "    result_bad3 = np.all(vec3_appr[1] == vec3_appr[0])\n",
    "    if not (result_bad3):\n",
    "        beta.append(vec3)\n",
    "    vec4 = np.array(data_new['Beta_TP10'])\n",
    "    vec4_appr = (np.add.reduceat(vec4, np.arange(0, len(vec4), 4)))/4\n",
    "    result_bad4 = np.all(vec4_appr[1] == vec4_appr[0])\n",
    "    if not (result_bad4):\n",
    "        beta.append(vec4)\n",
    "    gamma = []\n",
    "    vec1 = np.array(data_new['Gamma_TP9'])\n",
    "    vec1_appr = (np.add.reduceat(vec1, np.arange(0, len(vec1), 4)))/4\n",
    "    result_bad1 = np.all(vec1_appr[1] == vec1_appr[0])\n",
    "    if not (result_bad1):\n",
    "        gamma.append(vec1)\n",
    "    vec2 = np.array(data_new['Gamma_AF7'])\n",
    "    vec2_appr = (np.add.reduceat(vec2, np.arange(0, len(vec2), 4)))/4\n",
    "    result_bad2 = np.all(vec2_appr[1] == vec2_appr[0])\n",
    "    if not (result_bad2):\n",
    "        gamma.append(vec2)\n",
    "    vec3 = np.array(data_new['Gamma_AF8'])\n",
    "    vec3_appr = (np.add.reduceat(vec3, np.arange(0, len(vec3), 4)))/4\n",
    "    result_bad3 = np.all(vec3_appr[1] == vec3_appr[0])\n",
    "    if not (result_bad3):\n",
    "        gamma.append(vec3)\n",
    "    vec4 = np.array(data_new['Gamma_TP10'])\n",
    "    vec4_appr = (np.add.reduceat(vec4, np.arange(0, len(vec4), 4)))/4\n",
    "    result_bad4 = np.all(vec4_appr[1] == vec4_appr[0])\n",
    "    if not (result_bad4):\n",
    "        gamma.append(vec4)\n",
    "    means = [np.mean(delta), np.mean(theta), np.mean(beta), np.mean(gamma)]\n",
    "    variances = [np.std(delta), np.std(theta), np.std(beta), np.std(gamma)]\n",
    "    \n",
    "    new_dataset.append(means)\n",
    "    new_dataset.append(variances)"
   ]
  },
  {
   "cell_type": "code",
   "execution_count": 10,
   "id": "1ab01e0c",
   "metadata": {},
   "outputs": [],
   "source": [
    "new_dataset = np.reshape(new_dataset, (4, 8))"
   ]
  }
 ],
 "metadata": {
  "kernelspec": {
   "display_name": "Python 3 (ipykernel)",
   "language": "python",
   "name": "python3"
  },
  "language_info": {
   "codemirror_mode": {
    "name": "ipython",
    "version": 3
   },
   "file_extension": ".py",
   "mimetype": "text/x-python",
   "name": "python",
   "nbconvert_exporter": "python",
   "pygments_lexer": "ipython3",
   "version": "3.9.12"
  },
  "toc": {
   "base_numbering": 1,
   "nav_menu": {},
   "number_sections": true,
   "sideBar": true,
   "skip_h1_title": false,
   "title_cell": "Table of Contents",
   "title_sidebar": "Contents",
   "toc_cell": false,
   "toc_position": {},
   "toc_section_display": true,
   "toc_window_display": false
  },
  "varInspector": {
   "cols": {
    "lenName": 16,
    "lenType": 16,
    "lenVar": 40
   },
   "kernels_config": {
    "python": {
     "delete_cmd_postfix": "",
     "delete_cmd_prefix": "del ",
     "library": "var_list.py",
     "varRefreshCmd": "print(var_dic_list())"
    },
    "r": {
     "delete_cmd_postfix": ") ",
     "delete_cmd_prefix": "rm(",
     "library": "var_list.r",
     "varRefreshCmd": "cat(var_dic_list()) "
    }
   },
   "types_to_exclude": [
    "module",
    "function",
    "builtin_function_or_method",
    "instance",
    "_Feature"
   ],
   "window_display": false
  }
 },
 "nbformat": 4,
 "nbformat_minor": 5
}
