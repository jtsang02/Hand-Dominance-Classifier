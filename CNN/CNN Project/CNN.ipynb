{
 "cells": [
  {
   "cell_type": "markdown",
   "id": "a0c43519",
   "metadata": {},
   "source": [
    "# Description"
   ]
  },
  {
   "cell_type": "markdown",
   "id": "5ac7005e",
   "metadata": {},
   "source": [
    "To ensure the predictions we decided to  supplement our EEG Machine Learning models with a CNN model based on the two different classes given by the writing samples."
   ]
  },
  {
   "cell_type": "markdown",
   "id": "6a605c64",
   "metadata": {},
   "source": [
    "# Importing the Libraries"
   ]
  },
  {
   "cell_type": "code",
   "execution_count": 2,
   "id": "8bb40734",
   "metadata": {},
   "outputs": [],
   "source": [
    "import tensorflow as tf\n",
    "from keras.preprocessing.image import ImageDataGenerator"
   ]
  },
  {
   "cell_type": "markdown",
   "id": "407c3ce0",
   "metadata": {},
   "source": [
    "# Data Preprocessing"
   ]
  },
  {
   "cell_type": "markdown",
   "id": "f1a3114e",
   "metadata": {},
   "source": [
    "## Preprocessing the Training Set"
   ]
  },
  {
   "cell_type": "markdown",
   "id": "42d665e0",
   "metadata": {},
   "source": [
    "The input image is on RGB. Every image is made up of pixels that range from 0 to 255. We need to normalize them i.e convert the range between 0 to 1 before passing it to the model."
   ]
  },
  {
   "cell_type": "code",
   "execution_count": 6,
   "id": "4bed2b18",
   "metadata": {},
   "outputs": [
    {
     "name": "stdout",
     "output_type": "stream",
     "text": [
      "Found 146 images belonging to 2 classes.\n"
     ]
    }
   ],
   "source": [
    "train_datagen = ImageDataGenerator(rescale = 1./255,\n",
    "                                   shear_range = 0.2,\n",
    "                                   zoom_range = 0.2,\n",
    "                                   horizontal_flip = True)\n",
    "training_set = train_datagen.flow_from_directory('Dataset/Training_Set',\n",
    "                                                 target_size = (64, 64),\n",
    "                                                 batch_size = 32,\n",
    "                                                 class_mode = 'binary')"
   ]
  },
  {
   "cell_type": "markdown",
   "id": "f13a8282",
   "metadata": {},
   "source": [
    "The total of images in the training set is given by 73 * 2 = 146. "
   ]
  },
  {
   "cell_type": "markdown",
   "id": "ba331b5d",
   "metadata": {},
   "source": [
    "## Preprocessing the Test Set"
   ]
  },
  {
   "cell_type": "code",
   "execution_count": 7,
   "id": "bece24be",
   "metadata": {},
   "outputs": [
    {
     "name": "stdout",
     "output_type": "stream",
     "text": [
      "Found 34 images belonging to 2 classes.\n"
     ]
    }
   ],
   "source": [
    "test_datagen = ImageDataGenerator(rescale = 1./255)\n",
    "test_set = test_datagen.flow_from_directory('Dataset/Test_Set',\n",
    "                                            target_size = (64, 64),\n",
    "                                            batch_size = 32,\n",
    "                                            class_mode = 'binary')"
   ]
  },
  {
   "cell_type": "markdown",
   "id": "7b6714a7",
   "metadata": {},
   "source": [
    "The total of images in the test set is given by 16 * 2 = 34. "
   ]
  },
  {
   "cell_type": "markdown",
   "id": "df76da77",
   "metadata": {},
   "source": [
    "# Building the CNN Model"
   ]
  },
  {
   "cell_type": "markdown",
   "id": "ea48f7de",
   "metadata": {},
   "source": [
    "## Initializing the Model"
   ]
  },
  {
   "cell_type": "code",
   "execution_count": 10,
   "id": "6b135381",
   "metadata": {},
   "outputs": [],
   "source": [
    "Model = tf.keras.models.Sequential()"
   ]
  },
  {
   "cell_type": "markdown",
   "id": "a7acd8a7",
   "metadata": {},
   "source": [
    "## Adding First Convolution Layer "
   ]
  },
  {
   "cell_type": "markdown",
   "id": "602c3790",
   "metadata": {},
   "source": [
    "The convolution layer is the layer where the filter is applied to our input image to extract or detect its features. A filter is applied to the image multiple times and creates a feature map which helps in classifying the input image."
   ]
  },
  {
   "cell_type": "code",
   "execution_count": 11,
   "id": "2c7a5f6e",
   "metadata": {},
   "outputs": [],
   "source": [
    "Model.add(tf.keras.layers.Conv2D(filters=32, kernel_size=3, activation='relu', input_shape=[64, 64, 3]))"
   ]
  },
  {
   "cell_type": "markdown",
   "id": "88307f07",
   "metadata": {},
   "source": [
    "## Pooling the First Layer"
   ]
  },
  {
   "cell_type": "markdown",
   "id": "6c955dd3",
   "metadata": {},
   "source": [
    "The pooling layer is applied after the Convolutional layer and is used to reduce the dimensions of the feature map which helps in preserving the important information or features of the input image and reduces the computation time.\n",
    "\n",
    "The pooling operation involves sliding a two-dimensional filter over each channel of feature map and summarising the features lying within the region covered by the filter. "
   ]
  },
  {
   "cell_type": "code",
   "execution_count": 12,
   "id": "b1fd4660",
   "metadata": {},
   "outputs": [],
   "source": [
    "Model.add(tf.keras.layers.MaxPool2D(pool_size=2, strides=2))"
   ]
  },
  {
   "cell_type": "markdown",
   "id": "d2463502",
   "metadata": {},
   "source": [
    "## Adding a Second Convolutional Layer"
   ]
  },
  {
   "cell_type": "code",
   "execution_count": 13,
   "id": "7a8f2073",
   "metadata": {},
   "outputs": [],
   "source": [
    "Model.add(tf.keras.layers.Conv2D(filters=32, kernel_size=3, activation='relu'))"
   ]
  },
  {
   "cell_type": "markdown",
   "id": "25cdaa8e",
   "metadata": {},
   "source": [
    "## Pooling the Second Layer"
   ]
  },
  {
   "cell_type": "code",
   "execution_count": 14,
   "id": "81f4e822",
   "metadata": {},
   "outputs": [],
   "source": [
    "Model.add(tf.keras.layers.MaxPool2D(pool_size=2, strides=2))"
   ]
  },
  {
   "cell_type": "markdown",
   "id": "b0508f3c",
   "metadata": {},
   "source": [
    "## Flattening"
   ]
  },
  {
   "cell_type": "markdown",
   "id": "020d7105",
   "metadata": {},
   "source": [
    "The flattening step involves taking the pooled feature map that is generated in the pooling step and transforming it into a one-dimensional vector. This vector will now become the input layer of an artificial neural network."
   ]
  },
  {
   "cell_type": "code",
   "execution_count": 15,
   "id": "ed852fd4",
   "metadata": {},
   "outputs": [],
   "source": [
    "Model.add(tf.keras.layers.Flatten())"
   ]
  },
  {
   "cell_type": "markdown",
   "id": "0f6a60fb",
   "metadata": {},
   "source": [
    "## Full Connection"
   ]
  },
  {
   "cell_type": "markdown",
   "id": "8480c2da",
   "metadata": {},
   "source": [
    "The full connection step involves chaining an artificial neural network onto our existing convolutional neural network."
   ]
  },
  {
   "cell_type": "code",
   "execution_count": 17,
   "id": "347c3eff",
   "metadata": {},
   "outputs": [],
   "source": [
    "Model.add(tf.keras.layers.Dense(units=128, activation='relu'))"
   ]
  },
  {
   "cell_type": "markdown",
   "id": "57975858",
   "metadata": {},
   "source": [
    "## Output Layer"
   ]
  },
  {
   "cell_type": "markdown",
   "id": "98072d26",
   "metadata": {},
   "source": [
    "We add the output layer. In this project we must have units=1 because we need to classify 2 different classes."
   ]
  },
  {
   "cell_type": "code",
   "execution_count": 18,
   "id": "bb8f3077",
   "metadata": {},
   "outputs": [],
   "source": [
    "Model.add(tf.keras.layers.Dense(units=1, activation='sigmoid'))"
   ]
  },
  {
   "cell_type": "markdown",
   "id": "b9850701",
   "metadata": {},
   "source": [
    "## Compiling the CNN"
   ]
  },
  {
   "cell_type": "code",
   "execution_count": 19,
   "id": "7ee587ef",
   "metadata": {},
   "outputs": [],
   "source": [
    "Model.compile(optimizer = 'adam', loss = 'binary_crossentropy', metrics = ['accuracy'])"
   ]
  },
  {
   "cell_type": "markdown",
   "id": "3bfe6793",
   "metadata": {},
   "source": [
    "## Training the CNN"
   ]
  },
  {
   "cell_type": "code",
   "execution_count": 20,
   "id": "797a3703",
   "metadata": {},
   "outputs": [
    {
     "name": "stdout",
     "output_type": "stream",
     "text": [
      "Epoch 1/50\n",
      "5/5 [==============================] - 6s 1s/step - loss: 0.7039 - accuracy: 0.5411 - val_loss: 0.7158 - val_accuracy: 0.5000\n",
      "Epoch 2/50\n",
      "5/5 [==============================] - 4s 975ms/step - loss: 0.6971 - accuracy: 0.5000 - val_loss: 0.6931 - val_accuracy: 0.5000\n",
      "Epoch 3/50\n",
      "5/5 [==============================] - 5s 959ms/step - loss: 0.6949 - accuracy: 0.5000 - val_loss: 0.6926 - val_accuracy: 0.5000\n",
      "Epoch 4/50\n",
      "5/5 [==============================] - 5s 996ms/step - loss: 0.6949 - accuracy: 0.4452 - val_loss: 0.6931 - val_accuracy: 0.5000\n",
      "Epoch 5/50\n",
      "5/5 [==============================] - 4s 880ms/step - loss: 0.6936 - accuracy: 0.4178 - val_loss: 0.6930 - val_accuracy: 0.5000\n",
      "Epoch 6/50\n",
      "5/5 [==============================] - 6s 1s/step - loss: 0.6938 - accuracy: 0.5068 - val_loss: 0.6929 - val_accuracy: 0.4706\n",
      "Epoch 7/50\n",
      "5/5 [==============================] - 5s 1s/step - loss: 0.6921 - accuracy: 0.5959 - val_loss: 0.6927 - val_accuracy: 0.5882\n",
      "Epoch 8/50\n",
      "5/5 [==============================] - 5s 962ms/step - loss: 0.6933 - accuracy: 0.4658 - val_loss: 0.6914 - val_accuracy: 0.5000\n",
      "Epoch 9/50\n",
      "5/5 [==============================] - 4s 872ms/step - loss: 0.6914 - accuracy: 0.6301 - val_loss: 0.6898 - val_accuracy: 0.5000\n",
      "Epoch 10/50\n",
      "5/5 [==============================] - 4s 887ms/step - loss: 0.6916 - accuracy: 0.5274 - val_loss: 0.6898 - val_accuracy: 0.5000\n",
      "Epoch 11/50\n",
      "5/5 [==============================] - 5s 1s/step - loss: 0.6889 - accuracy: 0.5616 - val_loss: 0.6893 - val_accuracy: 0.5588\n",
      "Epoch 12/50\n",
      "5/5 [==============================] - 5s 950ms/step - loss: 0.6899 - accuracy: 0.6027 - val_loss: 0.6841 - val_accuracy: 0.5000\n",
      "Epoch 13/50\n",
      "5/5 [==============================] - 5s 915ms/step - loss: 0.6831 - accuracy: 0.5959 - val_loss: 0.6773 - val_accuracy: 0.5882\n",
      "Epoch 14/50\n",
      "5/5 [==============================] - 5s 1s/step - loss: 0.6788 - accuracy: 0.5137 - val_loss: 0.6816 - val_accuracy: 0.5000\n",
      "Epoch 15/50\n",
      "5/5 [==============================] - 5s 960ms/step - loss: 0.6809 - accuracy: 0.5959 - val_loss: 0.6747 - val_accuracy: 0.6176\n",
      "Epoch 16/50\n",
      "5/5 [==============================] - 5s 944ms/step - loss: 0.6772 - accuracy: 0.5959 - val_loss: 0.6670 - val_accuracy: 0.6765\n",
      "Epoch 17/50\n",
      "5/5 [==============================] - 4s 964ms/step - loss: 0.6702 - accuracy: 0.5753 - val_loss: 0.6549 - val_accuracy: 0.5294\n",
      "Epoch 18/50\n",
      "5/5 [==============================] - 4s 895ms/step - loss: 0.6448 - accuracy: 0.6370 - val_loss: 0.7570 - val_accuracy: 0.5000\n",
      "Epoch 19/50\n",
      "5/5 [==============================] - 4s 880ms/step - loss: 0.6723 - accuracy: 0.5959 - val_loss: 0.6799 - val_accuracy: 0.5588\n",
      "Epoch 20/50\n",
      "5/5 [==============================] - 4s 884ms/step - loss: 0.6703 - accuracy: 0.6301 - val_loss: 0.6658 - val_accuracy: 0.6176\n",
      "Epoch 21/50\n",
      "5/5 [==============================] - 4s 877ms/step - loss: 0.6660 - accuracy: 0.6644 - val_loss: 0.6571 - val_accuracy: 0.5588\n",
      "Epoch 22/50\n",
      "5/5 [==============================] - 4s 869ms/step - loss: 0.6322 - accuracy: 0.6644 - val_loss: 0.7599 - val_accuracy: 0.5294\n",
      "Epoch 23/50\n",
      "5/5 [==============================] - 4s 974ms/step - loss: 0.6170 - accuracy: 0.6507 - val_loss: 0.6737 - val_accuracy: 0.6176\n",
      "Epoch 24/50\n",
      "5/5 [==============================] - 4s 873ms/step - loss: 0.6321 - accuracy: 0.6575 - val_loss: 0.6594 - val_accuracy: 0.5588\n",
      "Epoch 25/50\n",
      "5/5 [==============================] - 5s 1s/step - loss: 0.6260 - accuracy: 0.6849 - val_loss: 0.6423 - val_accuracy: 0.5882\n",
      "Epoch 26/50\n",
      "5/5 [==============================] - 4s 887ms/step - loss: 0.6035 - accuracy: 0.7260 - val_loss: 0.6916 - val_accuracy: 0.5588\n",
      "Epoch 27/50\n",
      "5/5 [==============================] - 4s 889ms/step - loss: 0.6189 - accuracy: 0.6781 - val_loss: 0.5983 - val_accuracy: 0.7059\n",
      "Epoch 28/50\n",
      "5/5 [==============================] - 4s 884ms/step - loss: 0.6127 - accuracy: 0.6918 - val_loss: 0.6221 - val_accuracy: 0.6176\n",
      "Epoch 29/50\n",
      "5/5 [==============================] - 4s 1s/step - loss: 0.6117 - accuracy: 0.6986 - val_loss: 0.6089 - val_accuracy: 0.5882\n",
      "Epoch 30/50\n",
      "5/5 [==============================] - 4s 973ms/step - loss: 0.6044 - accuracy: 0.7329 - val_loss: 0.5753 - val_accuracy: 0.7059\n",
      "Epoch 31/50\n",
      "5/5 [==============================] - 4s 875ms/step - loss: 0.5968 - accuracy: 0.6986 - val_loss: 0.5529 - val_accuracy: 0.7059\n",
      "Epoch 32/50\n",
      "5/5 [==============================] - 4s 900ms/step - loss: 0.5753 - accuracy: 0.7055 - val_loss: 0.5633 - val_accuracy: 0.6471\n",
      "Epoch 33/50\n",
      "5/5 [==============================] - 4s 881ms/step - loss: 0.5734 - accuracy: 0.7123 - val_loss: 0.5598 - val_accuracy: 0.7647\n",
      "Epoch 34/50\n",
      "5/5 [==============================] - 4s 886ms/step - loss: 0.5581 - accuracy: 0.7329 - val_loss: 0.5626 - val_accuracy: 0.6765\n",
      "Epoch 35/50\n",
      "5/5 [==============================] - 4s 969ms/step - loss: 0.5924 - accuracy: 0.7397 - val_loss: 0.5895 - val_accuracy: 0.7941\n",
      "Epoch 36/50\n",
      "5/5 [==============================] - 5s 964ms/step - loss: 0.6012 - accuracy: 0.6575 - val_loss: 0.6249 - val_accuracy: 0.5588\n",
      "Epoch 37/50\n",
      "5/5 [==============================] - 5s 910ms/step - loss: 0.6240 - accuracy: 0.6918 - val_loss: 0.6043 - val_accuracy: 0.5882\n",
      "Epoch 38/50\n",
      "5/5 [==============================] - 4s 882ms/step - loss: 0.6018 - accuracy: 0.7466 - val_loss: 0.6381 - val_accuracy: 0.5588\n",
      "Epoch 39/50\n",
      "5/5 [==============================] - 4s 901ms/step - loss: 0.6867 - accuracy: 0.5753 - val_loss: 0.5933 - val_accuracy: 0.6765\n",
      "Epoch 40/50\n",
      "5/5 [==============================] - 4s 905ms/step - loss: 0.6235 - accuracy: 0.6781 - val_loss: 0.5901 - val_accuracy: 0.6471\n",
      "Epoch 41/50\n",
      "5/5 [==============================] - 4s 877ms/step - loss: 0.6079 - accuracy: 0.7123 - val_loss: 0.5515 - val_accuracy: 0.7353\n",
      "Epoch 42/50\n",
      "5/5 [==============================] - 4s 875ms/step - loss: 0.5850 - accuracy: 0.7329 - val_loss: 0.5510 - val_accuracy: 0.6471\n",
      "Epoch 43/50\n",
      "5/5 [==============================] - 4s 912ms/step - loss: 0.5600 - accuracy: 0.7329 - val_loss: 0.5414 - val_accuracy: 0.6765\n",
      "Epoch 44/50\n",
      "5/5 [==============================] - 4s 881ms/step - loss: 0.5669 - accuracy: 0.7260 - val_loss: 0.5573 - val_accuracy: 0.7941\n",
      "Epoch 45/50\n",
      "5/5 [==============================] - 4s 965ms/step - loss: 0.6111 - accuracy: 0.6644 - val_loss: 0.5810 - val_accuracy: 0.6471\n",
      "Epoch 46/50\n",
      "5/5 [==============================] - 4s 890ms/step - loss: 0.5563 - accuracy: 0.7808 - val_loss: 0.5761 - val_accuracy: 0.6471\n",
      "Epoch 47/50\n",
      "5/5 [==============================] - 5s 923ms/step - loss: 0.5860 - accuracy: 0.7192 - val_loss: 0.5801 - val_accuracy: 0.6765\n",
      "Epoch 48/50\n",
      "5/5 [==============================] - 4s 873ms/step - loss: 0.5551 - accuracy: 0.7260 - val_loss: 0.5734 - val_accuracy: 0.6765\n",
      "Epoch 49/50\n",
      "5/5 [==============================] - 4s 876ms/step - loss: 0.5924 - accuracy: 0.7123 - val_loss: 0.5943 - val_accuracy: 0.6765\n",
      "Epoch 50/50\n",
      "5/5 [==============================] - 4s 882ms/step - loss: 0.5728 - accuracy: 0.7260 - val_loss: 0.5669 - val_accuracy: 0.6765\n"
     ]
    },
    {
     "data": {
      "text/plain": [
       "<keras.callbacks.History at 0x7ff464a50a30>"
      ]
     },
     "execution_count": 20,
     "metadata": {},
     "output_type": "execute_result"
    }
   ],
   "source": [
    "Model.fit(x = training_set, validation_data = test_set, epochs = 50)"
   ]
  },
  {
   "cell_type": "markdown",
   "id": "b6617fd6",
   "metadata": {},
   "source": [
    "## Evaluating the Model"
   ]
  },
  {
   "cell_type": "markdown",
   "id": "27c19d45",
   "metadata": {},
   "source": [
    "Firstly we evaluate the ability of the model in predicting our training set. "
   ]
  },
  {
   "cell_type": "code",
   "execution_count": 26,
   "id": "60da0b2d",
   "metadata": {
    "scrolled": true
   },
   "outputs": [
    {
     "name": "stdout",
     "output_type": "stream",
     "text": [
      "5/5 [==============================] - 4s 711ms/step - loss: 0.5705 - accuracy: 0.7329\n",
      "The accurancy of the model on the training set is 73.29 %\n"
     ]
    }
   ],
   "source": [
    "acc_training = Model.evaluate(training_set)\n",
    "print (\"The accurancy of the model on the training set is\", round(acc_training[1]*100, 2), \"%\")"
   ]
  },
  {
   "cell_type": "code",
   "execution_count": 25,
   "id": "d10e9b6a",
   "metadata": {},
   "outputs": [
    {
     "name": "stdout",
     "output_type": "stream",
     "text": [
      "2/2 [==============================] - 1s 53ms/step - loss: 0.5669 - accuracy: 0.6765\n",
      "The accurancy of the model on the test set is 67.65 %\n"
     ]
    }
   ],
   "source": [
    "acc_test = Model.evaluate(test_set)\n",
    "print (\"The accurancy of the model on the test set is\", round(acc_test[1]*100, 2), \"%\")"
   ]
  }
 ],
 "metadata": {
  "kernelspec": {
   "display_name": "Python 3 (ipykernel)",
   "language": "python",
   "name": "python3"
  },
  "language_info": {
   "codemirror_mode": {
    "name": "ipython",
    "version": 3
   },
   "file_extension": ".py",
   "mimetype": "text/x-python",
   "name": "python",
   "nbconvert_exporter": "python",
   "pygments_lexer": "ipython3",
   "version": "3.9.12"
  },
  "toc": {
   "base_numbering": 1,
   "nav_menu": {},
   "number_sections": true,
   "sideBar": true,
   "skip_h1_title": false,
   "title_cell": "Table of Contents",
   "title_sidebar": "Contents",
   "toc_cell": false,
   "toc_position": {},
   "toc_section_display": true,
   "toc_window_display": true
  },
  "varInspector": {
   "cols": {
    "lenName": 16,
    "lenType": 16,
    "lenVar": 40
   },
   "kernels_config": {
    "python": {
     "delete_cmd_postfix": "",
     "delete_cmd_prefix": "del ",
     "library": "var_list.py",
     "varRefreshCmd": "print(var_dic_list())"
    },
    "r": {
     "delete_cmd_postfix": ") ",
     "delete_cmd_prefix": "rm(",
     "library": "var_list.r",
     "varRefreshCmd": "cat(var_dic_list()) "
    }
   },
   "types_to_exclude": [
    "module",
    "function",
    "builtin_function_or_method",
    "instance",
    "_Feature"
   ],
   "window_display": false
  }
 },
 "nbformat": 4,
 "nbformat_minor": 5
}
