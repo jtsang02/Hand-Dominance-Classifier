{
 "cells": [
  {
   "cell_type": "code",
   "execution_count": 11,
   "id": "6e44beaa",
   "metadata": {},
   "outputs": [],
   "source": [
    "import tensorflow as tf\n",
    "import numpy as np\n",
    "import matplotlib.pyplot as plt\n",
    "import pandas as pd\n",
    "import tensorflow.keras as kr\n",
    "import seaborn as sns\n",
    "import os"
   ]
  },
  {
   "cell_type": "code",
   "execution_count": 12,
   "id": "b2424325",
   "metadata": {},
   "outputs": [],
   "source": [
    "cwd = os.getcwd()\n",
    "Right_Handed_RHC_Dir = cwd + r\"/RightHandDominant/RHC\"\n",
    "Right_Handed_RHS_Dir = cwd + r\"/RightHandDominant/RHS\"\n",
    "Right_Handed_LHC_Dir = cwd + r\"/RightHandDominant/LHC\"\n",
    "Right_Handed_LHS_Dir = cwd + r\"/RightHandDominant/LHS\"\n",
    "\n",
    "Left_Handed_RHC_Dir = cwd + r\"/LeftHandDominant/RHC\"\n",
    "Left_Handed_RHS_Dir = cwd + r\"/LeftHandDominant/RHS\"\n",
    "Left_Handed_LHC_Dir = cwd + r\"/LeftHandDominant/LHC\"\n",
    "Left_Handed_LHS_Dir = cwd + r\"/LeftHandDominant/LHS\""
   ]
  },
  {
   "cell_type": "code",
   "execution_count": 13,
   "id": "dbf4470e",
   "metadata": {},
   "outputs": [],
   "source": [
    "filesRightHandRHC=[];\n",
    "filesRightHandRHS=[];\n",
    "filesRightHandLHC=[];\n",
    "filesRightHandLHS=[];\n",
    "\n",
    "filesLeftHandRHC=[];\n",
    "filesLeftHandRHS=[];\n",
    "filesLeftHandLHC=[];\n",
    "filesLeftHandLHS=[];"
   ]
  },
  {
   "cell_type": "code",
   "execution_count": 14,
   "id": "58bb9fe8",
   "metadata": {},
   "outputs": [
    {
     "ename": "FileNotFoundError",
     "evalue": "[WinError 3] The system cannot find the path specified: 'd:\\\\Documents\\\\UBC\\\\MANU 465\\\\MANU-465-EEG4/RightHandDominant/RHC'",
     "output_type": "error",
     "traceback": [
      "\u001b[1;31m---------------------------------------------------------------------------\u001b[0m",
      "\u001b[1;31mFileNotFoundError\u001b[0m                         Traceback (most recent call last)",
      "\u001b[1;32m~\\AppData\\Local\\Temp/ipykernel_18152/542283032.py\u001b[0m in \u001b[0;36m<module>\u001b[1;34m\u001b[0m\n\u001b[1;32m----> 1\u001b[1;33m \u001b[1;32mfor\u001b[0m \u001b[0mfile\u001b[0m \u001b[1;32min\u001b[0m \u001b[0mos\u001b[0m\u001b[1;33m.\u001b[0m\u001b[0mlistdir\u001b[0m\u001b[1;33m(\u001b[0m\u001b[0mRight_Handed_RHC_Dir\u001b[0m\u001b[1;33m)\u001b[0m\u001b[1;33m:\u001b[0m\u001b[1;33m\u001b[0m\u001b[1;33m\u001b[0m\u001b[0m\n\u001b[0m\u001b[0;32m      2\u001b[0m     \u001b[1;32mif\u001b[0m \u001b[0mfile\u001b[0m\u001b[1;33m.\u001b[0m\u001b[0mendswith\u001b[0m\u001b[1;33m(\u001b[0m\u001b[1;34m'.csv'\u001b[0m\u001b[1;33m)\u001b[0m\u001b[1;33m:\u001b[0m\u001b[1;33m\u001b[0m\u001b[1;33m\u001b[0m\u001b[0m\n\u001b[0;32m      3\u001b[0m         \u001b[0mfilesRightHandRHC\u001b[0m\u001b[1;33m.\u001b[0m\u001b[0mappend\u001b[0m\u001b[1;33m(\u001b[0m\u001b[0mos\u001b[0m\u001b[1;33m.\u001b[0m\u001b[0mpath\u001b[0m\u001b[1;33m.\u001b[0m\u001b[0mjoin\u001b[0m\u001b[1;33m(\u001b[0m\u001b[0mRight_Handed_RHC_Dir\u001b[0m\u001b[1;33m,\u001b[0m \u001b[0mfile\u001b[0m\u001b[1;33m)\u001b[0m\u001b[1;33m)\u001b[0m\u001b[1;33m\u001b[0m\u001b[1;33m\u001b[0m\u001b[0m\n\u001b[0;32m      4\u001b[0m \u001b[1;33m\u001b[0m\u001b[0m\n\u001b[0;32m      5\u001b[0m \u001b[0mprint\u001b[0m \u001b[1;33m(\u001b[0m\u001b[1;34mf\" {len(filesRightHandRHC)} files added from the RHC category\"\u001b[0m\u001b[1;33m)\u001b[0m\u001b[1;33m\u001b[0m\u001b[1;33m\u001b[0m\u001b[0m\n",
      "\u001b[1;31mFileNotFoundError\u001b[0m: [WinError 3] The system cannot find the path specified: 'd:\\\\Documents\\\\UBC\\\\MANU 465\\\\MANU-465-EEG4/RightHandDominant/RHC'"
     ]
    }
   ],
   "source": [
    "for file in os.listdir(Right_Handed_RHC_Dir):\n",
    "    if file.endswith('.csv'):\n",
    "        filesRightHandRHC.append(os.path.join(Right_Handed_RHC_Dir, file))\n",
    "        \n",
    "print (f\" {len(filesRightHandRHC)} files added from the RHC category\")"
   ]
  },
  {
   "cell_type": "code",
   "execution_count": null,
   "id": "c779c11b",
   "metadata": {},
   "outputs": [],
   "source": [
    "for file in os.listdir(Right_Handed_RHS_Dir):\n",
    "    if file.endswith('.csv'):\n",
    "        filesRightHandRHS.append(os.path.join(Right_Handed_RHS_Dir, file))\n",
    "\n",
    "print (f\" {len(filesRightHandRHS)} files added from the RHS category\")"
   ]
  },
  {
   "cell_type": "code",
   "execution_count": null,
   "id": "0d8d4086",
   "metadata": {},
   "outputs": [],
   "source": [
    "for file in os.listdir(Right_Handed_LHC_Dir):\n",
    "    if file.endswith('.csv'):\n",
    "        filesRightHandLHC.append(os.path.join(Right_Handed_LHC_Dir, file))\n",
    "        \n",
    "print (f\" {len(filesRightHandLHC)} files added from the LHC category\")"
   ]
  },
  {
   "cell_type": "code",
   "execution_count": null,
   "id": "495beb70",
   "metadata": {},
   "outputs": [],
   "source": [
    "for file in os.listdir(Right_Handed_LHS_Dir):\n",
    "    if file.endswith('.csv'):\n",
    "        filesRightHandLHS.append(os.path.join(Right_Handed_LHS_Dir, file))\n",
    "        \n",
    "print (f\" {len(filesRightHandLHS)} files added from the LHS category\")"
   ]
  },
  {
   "cell_type": "code",
   "execution_count": null,
   "id": "42543287",
   "metadata": {},
   "outputs": [],
   "source": [
    "for file in os.listdir(Left_Handed_RHC_Dir):\n",
    "    if file.endswith('.csv'):\n",
    "        filesLeftHandRHC.append(os.path.join(Left_Handed_RHC_Dir, file))\n",
    "        \n",
    "print (f\" {len(filesLeftHandRHC)} files added from the RHC category\")"
   ]
  },
  {
   "cell_type": "code",
   "execution_count": null,
   "id": "61fa61fc",
   "metadata": {},
   "outputs": [],
   "source": [
    "for file in os.listdir(Left_Handed_RHS_Dir):\n",
    "    if file.endswith('.csv'):\n",
    "        filesLeftHandRHS.append(os.path.join(Left_Handed_RHS_Dir, file))\n",
    "        \n",
    "print (f\" {len(filesLeftHandRHS)} files added from the RHS category\")"
   ]
  },
  {
   "cell_type": "code",
   "execution_count": null,
   "id": "ec66966d",
   "metadata": {},
   "outputs": [],
   "source": [
    "for file in os.listdir(Left_Handed_LHC_Dir):\n",
    "    if file.endswith('.csv'):\n",
    "        filesLeftHandLHC.append(os.path.join(Left_Handed_LHC_Dir, file))\n",
    "        \n",
    "print (f\" {len(filesLeftHandLHC)} files added from the LHC category\")"
   ]
  },
  {
   "cell_type": "code",
   "execution_count": null,
   "id": "13793e83",
   "metadata": {},
   "outputs": [],
   "source": [
    "for file in os.listdir(Left_Handed_LHS_Dir):\n",
    "    if file.endswith('.csv'):\n",
    "        filesLeftHandLHS.append(os.path.join(Left_Handed_LHS_Dir, file))\n",
    "        \n",
    "print (f\" {len(filesLeftHandLHS)} files added from the LHS category\")"
   ]
  },
  {
   "cell_type": "code",
   "execution_count": null,
   "id": "553ebb8d",
   "metadata": {},
   "outputs": [],
   "source": [
    "# Test files\n",
    "n = 7\n",
    "sample = pd.read_csv(filesLeftHandRHC[n])\n",
    "sample"
   ]
  },
  {
   "cell_type": "code",
   "execution_count": null,
   "id": "6d6967b4",
   "metadata": {},
   "outputs": [],
   "source": [
    "#Available features\n",
    "\n",
    "pd.DataFrame(sample.columns)"
   ]
  },
  {
   "cell_type": "code",
   "execution_count": null,
   "id": "4e9d91f1",
   "metadata": {},
   "outputs": [],
   "source": [
    "sample.info()"
   ]
  },
  {
   "cell_type": "markdown",
   "id": "6ee7490d",
   "metadata": {},
   "source": [
    "# Data Preprocessing"
   ]
  },
  {
   "cell_type": "code",
   "execution_count": null,
   "id": "4b6b9642",
   "metadata": {},
   "outputs": [],
   "source": [
    "rowsRightHandedRHC = [];\n",
    "for c in filesRightHandRHC:\n",
    "    for i in range(pd.read_csv(c).shape[0]):\n",
    "        rowsRightHandedRHC.append(pd.read_csv(c).iloc[i,[0,21,22,23,24,25]])\n",
    "        \n",
    "rowsLeftHandedRHC = [];\n",
    "for c in filesLeftHandRHC:\n",
    "    for i in range(pd.read_csv(c).shape[0]):\n",
    "        rowsLeftHandedRHC.append(pd.read_csv(c).iloc[i,[0,21,22,23,24,25]])"
   ]
  },
  {
   "cell_type": "code",
   "execution_count": null,
   "id": "10d918ce",
   "metadata": {},
   "outputs": [],
   "source": [
    "# convert to dataframe\n",
    "\n",
    "dataset_Right_Handed_RHC = pd.DataFrame(rowsRightHandedRHC)\n",
    "\n",
    "pd.DataFrame(dataset_Right_Handed_RHC)"
   ]
  },
  {
   "cell_type": "code",
   "execution_count": null,
   "id": "bc7f2357",
   "metadata": {
    "scrolled": false
   },
   "outputs": [],
   "source": [
    "# convert to dataframe\n",
    "\n",
    "dataset_Left_Handed_RHC = pd.DataFrame(rowsLeftHandedRHC)\n",
    "pd.DataFrame(dataset_Left_Handed_RHC)"
   ]
  },
  {
   "cell_type": "markdown",
   "id": "5f37f503",
   "metadata": {},
   "source": [
    "## Remove empty rows"
   ]
  },
  {
   "cell_type": "code",
   "execution_count": null,
   "id": "2deb83d0",
   "metadata": {},
   "outputs": [],
   "source": [
    "dataset_Right_Handed_RHC = dataset_Right_Handed_RHC.dropna()\n",
    "dataset_Left_Handed_RHC = dataset_Left_Handed_RHC.dropna()"
   ]
  },
  {
   "cell_type": "code",
   "execution_count": null,
   "id": "68bb9ae4",
   "metadata": {},
   "outputs": [],
   "source": [
    "dataset_Right_Handed_RHC.isnull().values.any()"
   ]
  },
  {
   "cell_type": "code",
   "execution_count": null,
   "id": "3c28d325",
   "metadata": {},
   "outputs": [
    {
     "ename": "NameError",
     "evalue": "name 'dataset_Right_Handed_RHC' is not defined",
     "output_type": "error",
     "traceback": [
      "\u001b[1;31m---------------------------------------------------------------------------\u001b[0m",
      "\u001b[1;31mNameError\u001b[0m                                 Traceback (most recent call last)",
      "\u001b[1;32m~\\AppData\\Local\\Temp/ipykernel_18152/1808306032.py\u001b[0m in \u001b[0;36m<module>\u001b[1;34m\u001b[0m\n\u001b[1;32m----> 1\u001b[1;33m \u001b[0mpd\u001b[0m\u001b[1;33m.\u001b[0m\u001b[0mDataFrame\u001b[0m\u001b[1;33m(\u001b[0m\u001b[0mdataset_Right_Handed_RHC\u001b[0m\u001b[1;33m)\u001b[0m\u001b[1;33m\u001b[0m\u001b[1;33m\u001b[0m\u001b[0m\n\u001b[0m",
      "\u001b[1;31mNameError\u001b[0m: name 'dataset_Right_Handed_RHC' is not defined"
     ]
    }
   ],
   "source": [
    "pd.DataFrame(dataset_Right_Handed_RHC)"
   ]
  },
  {
   "cell_type": "code",
   "execution_count": null,
   "id": "5f0d9b1e",
   "metadata": {},
   "outputs": [],
   "source": [
    "pd.DataFrame(dataset_Left_Handed_RHC)"
   ]
  },
  {
   "cell_type": "markdown",
   "id": "13491381",
   "metadata": {},
   "source": [
    "## EEG Feature Generation"
   ]
  },
  {
   "cell_type": "code",
   "execution_count": null,
   "id": "0c8a08e6",
   "metadata": {},
   "outputs": [],
   "source": []
  },
  {
   "cell_type": "code",
   "execution_count": null,
   "id": "8cd11bee",
   "metadata": {},
   "outputs": [],
   "source": []
  },
  {
   "cell_type": "code",
   "execution_count": null,
   "id": "6e297b60",
   "metadata": {},
   "outputs": [],
   "source": []
  },
  {
   "cell_type": "markdown",
   "id": "adf628ef",
   "metadata": {},
   "source": [
    "## Data preprocessing differently"
   ]
  },
  {
   "cell_type": "markdown",
   "id": "98366789",
   "metadata": {},
   "source": [
    "Try to keep all the variables!"
   ]
  },
  {
   "cell_type": "markdown",
   "id": "54f20a92",
   "metadata": {},
   "source": [
    "rowsRightHandedRHC = [];\n",
    "for c in filesRightHandRHC:\n",
    "    for i in range(pd.read_csv(c).shape[0]):\n",
    "        rowsRightHandedRHC.append(pd.read_csv(c)[i])\n",
    "        \n",
    "rowsLeftHandedRHC = [];\n",
    "for c in filesLeftHandRHC:\n",
    "    for i in range(pd.read_csv(c).shape[0]):\n",
    "        rowsLeftHandedRHC.append(pd.read_csv(c)[i])"
   ]
  },
  {
   "cell_type": "markdown",
   "id": "6138763d",
   "metadata": {},
   "source": [
    "dataset_Right_Handed_RHC = pd.DataFrame(rowsRightHandedRHC)\n",
    "\n",
    "pd.DataFrame(dataset_Right_Handed_RHC)"
   ]
  },
  {
   "cell_type": "code",
   "execution_count": null,
   "id": "04d5a95d",
   "metadata": {},
   "outputs": [],
   "source": []
  },
  {
   "cell_type": "markdown",
   "id": "96dfad61",
   "metadata": {},
   "source": [
    "## Try"
   ]
  },
  {
   "cell_type": "code",
   "execution_count": null,
   "id": "35c5aab3",
   "metadata": {},
   "outputs": [],
   "source": [
    "col = np.array(dataset_Right_Handed_RHC.iloc[:, 2]) \n",
    "for el in col:\n",
    "    print(el) # there are some stirng!!\n",
    "    print(type(el))"
   ]
  },
  {
   "cell_type": "code",
   "execution_count": null,
   "id": "9c4557a9",
   "metadata": {},
   "outputs": [],
   "source": [
    "dataset_Right_Handed_RHC.shape "
   ]
  },
  {
   "cell_type": "code",
   "execution_count": null,
   "id": "b2fe05ee",
   "metadata": {
    "scrolled": true
   },
   "outputs": [],
   "source": [
    "try_df = dataset_Right_Handed_RHC.head(5)\n",
    "try_df['']"
   ]
  },
  {
   "cell_type": "markdown",
   "id": "2f170524",
   "metadata": {},
   "source": [
    "To avoid the problem I use only the first 5 lines"
   ]
  },
  {
   "cell_type": "code",
   "execution_count": null,
   "id": "010ba23a",
   "metadata": {},
   "outputs": [],
   "source": [
    "try_left = dataset_Left_Handed_RHC.head(5) \n",
    "try_left"
   ]
  },
  {
   "cell_type": "code",
   "execution_count": null,
   "id": "9cdcd56c",
   "metadata": {},
   "outputs": [],
   "source": [
    "col = np.array(try_left.iloc[:, 2]) \n",
    "for el in col:\n",
    "    print(el) \n",
    "    print(type(el))"
   ]
  },
  {
   "cell_type": "markdown",
   "id": "5f724699",
   "metadata": {},
   "source": [
    "Now each row is read as float, but we know that these values are wrong, since . means both decimal separator and thousand separator"
   ]
  },
  {
   "cell_type": "code",
   "execution_count": null,
   "id": "ebe97156",
   "metadata": {
    "scrolled": true
   },
   "outputs": [],
   "source": [
    "np.mean(try_df.iloc[:,1:5], axis=0)"
   ]
  },
  {
   "cell_type": "code",
   "execution_count": null,
   "id": "2e5fd70d",
   "metadata": {},
   "outputs": [],
   "source": [
    "data_arr_r=np.array(try_df)\n",
    "data_arr_l=np.array(try_left)\n",
    "\n",
    "data_array = data_arr_r + data_arr_l\n",
    "data_array"
   ]
  },
  {
   "cell_type": "code",
   "execution_count": null,
   "id": "42312b6f",
   "metadata": {},
   "outputs": [],
   "source": [
    "from scipy import stats \n",
    "def mean(x):\n",
    "    return np.mean(x, axis=0)\n",
    "def std(x):\n",
    "    return np.std(x, axis=0)\n",
    "def ptp(x):\n",
    "    return np.ptp(x, axis=0)\n",
    "def var(x):\n",
    "    return np.var(x, axis=0)\n",
    "def minim(x):\n",
    "    return np.min(x, axis=0)\n",
    "def maxim(x):\n",
    "    return np.max(x, axis=0)\n",
    "def argminim(x):\n",
    "    return np.argmin(x, axis=0)\n",
    "def argmaxim(x):\n",
    "    return np.argmax(x, axis=0)\n",
    "def rms(x):\n",
    "    return np.sqrt(np.mean(x**2, axis=0))\n",
    "def abs_diff_signal(x):\n",
    "    np.sum(np.abs(np.diff(x,axis=0)),axis=0)\n",
    "def skewness(x):\n",
    "    return stats.skew(x,axis=0)\n",
    "def kurtosis(x):\n",
    "    return stats.kurtosis(x,axis=0)\n",
    "\n",
    "def concatenate_features(x):\n",
    "    return mean(x),std(x),ptp(x),var(x),minim(x),maxim(x),argminim(x),argmaxim(x),rms(x),abs_diff_signal(x),skewness(x),kurtosis(x)"
   ]
  },
  {
   "cell_type": "code",
   "execution_count": null,
   "id": "83b6cab4",
   "metadata": {},
   "outputs": [],
   "source": [
    "try_df.iloc[:,1:6].apply(concatenate_features) # each row corresponds to one of the 12 features"
   ]
  },
  {
   "cell_type": "code",
   "execution_count": null,
   "id": "4cabd66a",
   "metadata": {},
   "outputs": [],
   "source": []
  },
  {
   "cell_type": "markdown",
   "id": "be55b805",
   "metadata": {},
   "source": [
    "This dataset can be used for all the further analysis and should be extended to all the data"
   ]
  },
  {
   "cell_type": "code",
   "execution_count": null,
   "id": "459d69d8",
   "metadata": {},
   "outputs": [],
   "source": [
    "from sklearn.linear_model import LogisticRegression\n",
    "from sklearn.pipeline import Pipeline\n",
    "from sklearn.preprocessing import StandardScaler\n",
    "from sklearn.model_selection import GroupKFold, GridSearchCV"
   ]
  },
  {
   "cell_type": "code",
   "execution_count": null,
   "id": "8ce90d1d",
   "metadata": {},
   "outputs": [],
   "source": [
    "clf=LogisticRegression()\n",
    "gkf=GroupKFold(3)\n",
    "pipe=Pipeline([('scaler',StandardScaler()),('clf',clf)])\n",
    "param_grid={'clf_C':[0.1,0.5,0.7,1,3,5,7]}\n",
    "gscv=GridSearchCV(pipe, param_grid, cv=gkf, n_jobs=12)\n",
    "gscv.fit(features_array,label_array,groups=group_array)"
   ]
  },
  {
   "cell_type": "code",
   "execution_count": null,
   "id": "8ecfb83c",
   "metadata": {},
   "outputs": [],
   "source": []
  },
  {
   "cell_type": "code",
   "execution_count": null,
   "id": "978499b1",
   "metadata": {},
   "outputs": [],
   "source": []
  },
  {
   "cell_type": "code",
   "execution_count": null,
   "id": "a112d223",
   "metadata": {},
   "outputs": [],
   "source": []
  },
  {
   "cell_type": "code",
   "execution_count": null,
   "id": "740e8c46",
   "metadata": {},
   "outputs": [],
   "source": []
  },
  {
   "cell_type": "code",
   "execution_count": null,
   "id": "0eaeae76",
   "metadata": {},
   "outputs": [],
   "source": []
  },
  {
   "cell_type": "code",
   "execution_count": null,
   "id": "b1682c0a",
   "metadata": {},
   "outputs": [],
   "source": []
  },
  {
   "cell_type": "code",
   "execution_count": null,
   "id": "f49e12df",
   "metadata": {},
   "outputs": [],
   "source": []
  },
  {
   "cell_type": "markdown",
   "id": "9be8ffde",
   "metadata": {},
   "source": [
    "### other unsuccsseful trials"
   ]
  },
  {
   "cell_type": "code",
   "execution_count": null,
   "id": "d4d33a5f",
   "metadata": {},
   "outputs": [],
   "source": [
    "# create a copy of the dataset \n",
    "df = dataset_Right_Handed_RHC.copy()\n",
    "\n",
    "# remove all the string values from the df\n",
    "for col in df.columns:\n",
    "    for i in range(200): #len(df)\n",
    "        value = df[col][i:i+1]\n",
    "        print(type(value))\n",
    "        #print(value[0])\n",
    "        #print(type(value[0]))\n",
    "        #if isinstance(value, str) : #type(value[0]) == 'str'\n",
    "        #    print(value)\n",
    "        #    df = df.drop(i, axis=0)\n",
    "df.shape"
   ]
  },
  {
   "cell_type": "code",
   "execution_count": null,
   "id": "79e2a7fe",
   "metadata": {},
   "outputs": [],
   "source": [
    "value = df[\"AUX_RIGHT\"][0:0+1]\n",
    "type(value[0])"
   ]
  },
  {
   "cell_type": "code",
   "execution_count": null,
   "id": "3423d9ae",
   "metadata": {},
   "outputs": [],
   "source": [
    "if isinstance(\"1.1.1\", str):\n",
    "    print(\"ciao\")\n",
    "else:\n",
    "    print(\"no\")"
   ]
  },
  {
   "cell_type": "code",
   "execution_count": null,
   "id": "8233f4b1",
   "metadata": {},
   "outputs": [],
   "source": [
    "df.drop(1, axis=0)"
   ]
  },
  {
   "cell_type": "code",
   "execution_count": null,
   "id": "ecda957a",
   "metadata": {},
   "outputs": [],
   "source": [
    "df.head()"
   ]
  },
  {
   "cell_type": "code",
   "execution_count": null,
   "id": "455b895a",
   "metadata": {},
   "outputs": [],
   "source": [
    "np.mean(col)"
   ]
  },
  {
   "cell_type": "code",
   "execution_count": null,
   "id": "183ee32c",
   "metadata": {},
   "outputs": [],
   "source": [
    "new = pd.DataFrame.to_numpy(dataset_Right_Handed_RHC)\n",
    "new"
   ]
  },
  {
   "cell_type": "code",
   "execution_count": null,
   "id": "db0d4069",
   "metadata": {},
   "outputs": [],
   "source": [
    "new[:,2:4]"
   ]
  },
  {
   "cell_type": "code",
   "execution_count": null,
   "id": "76fdbde6",
   "metadata": {},
   "outputs": [],
   "source": [
    "np.mean(new[:,2:4], axis=1)"
   ]
  }
 ],
 "metadata": {
  "kernelspec": {
   "display_name": "Python 3.9.7 ('base')",
   "language": "python",
   "name": "python3"
  },
  "language_info": {
   "codemirror_mode": {
    "name": "ipython",
    "version": 3
   },
   "file_extension": ".py",
   "mimetype": "text/x-python",
   "name": "python",
   "nbconvert_exporter": "python",
   "pygments_lexer": "ipython3",
   "version": "3.9.7"
  },
  "toc": {
   "base_numbering": 1,
   "nav_menu": {},
   "number_sections": true,
   "sideBar": true,
   "skip_h1_title": false,
   "title_cell": "Table of Contents",
   "title_sidebar": "Contents",
   "toc_cell": false,
   "toc_position": {},
   "toc_section_display": true,
   "toc_window_display": false
  },
  "varInspector": {
   "cols": {
    "lenName": 16,
    "lenType": 16,
    "lenVar": 40
   },
   "kernels_config": {
    "python": {
     "delete_cmd_postfix": "",
     "delete_cmd_prefix": "del ",
     "library": "var_list.py",
     "varRefreshCmd": "print(var_dic_list())"
    },
    "r": {
     "delete_cmd_postfix": ") ",
     "delete_cmd_prefix": "rm(",
     "library": "var_list.r",
     "varRefreshCmd": "cat(var_dic_list()) "
    }
   },
   "types_to_exclude": [
    "module",
    "function",
    "builtin_function_or_method",
    "instance",
    "_Feature"
   ],
   "window_display": false
  },
  "vscode": {
   "interpreter": {
    "hash": "124e47c1ad6ceb91c3ceb1dde65cfb37b91587009ebc216d439d411f4704dda1"
   }
  }
 },
 "nbformat": 4,
 "nbformat_minor": 5
}
