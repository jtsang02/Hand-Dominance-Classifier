{
 "cells": [
  {
   "cell_type": "markdown",
   "id": "f0a485b1",
   "metadata": {},
   "source": [
    "# Code to make all headers consistent"
   ]
  },
  {
   "cell_type": "code",
   "execution_count": 47,
   "id": "c8436ff4",
   "metadata": {},
   "outputs": [],
   "source": [
    "import os\n",
    "import glob\n",
    "import pandas as pd\n",
    "from pathlib import Path\n",
    "os.chdir(r\"C:\\Users\\Dragon\\OneDrive\\Desktop\\MANU-465-EEG4-main\\Data Collection\\Unprocessed Dataset\\Left Handed Dominant\\100\")"
   ]
  },
  {
   "cell_type": "code",
   "execution_count": 48,
   "id": "b332ea9b",
   "metadata": {},
   "outputs": [
    {
     "name": "stdout",
     "output_type": "stream",
     "text": [
      "['LHC-101.csv', 'LHC-102.csv', 'LHC-103.csv', 'LHC-122.csv', 'LHC-126.csv', 'LHS-101.csv', 'LHS-102.csv', 'LHS-103.csv', 'LHS-122.csv', 'LHS-126.csv', 'RHC-101.csv', 'RHC-102.csv', 'RHC-103.csv', 'RHC-122.csv', 'RHC-126.csv', 'RHS-101.csv', 'RHS-102.csv', 'RHS-103.csv', 'RHS-122.csv', 'RHS-126.csv']\n"
     ]
    }
   ],
   "source": [
    "extension = 'csv'\n",
    "all_filenames = [i for i in glob.glob('*.{}'.format(extension))]\n",
    "print(all_filenames)"
   ]
  },
  {
   "cell_type": "markdown",
   "id": "9f8c5c3c",
   "metadata": {},
   "source": [
    "# Test on one CSV"
   ]
  },
  {
   "cell_type": "code",
   "execution_count": 49,
   "id": "3b6f444d",
   "metadata": {},
   "outputs": [
    {
     "name": "stdout",
     "output_type": "stream",
     "text": [
      "Empty DataFrame\n",
      "Columns: [TimeStamp, Delta_TP9, Delta_AF7, Delta_AF8, Delta_TP10, Theta_TP9, Theta_AF7, Theta_AF8, Theta_TP10, Alpha_TP9, Alpha_AF7, Alpha_AF8, Alpha_TP10, Beta_TP9, Beta_AF7, Beta_AF8, Beta_TP10, Gamma_TP9, Gamma_AF7, Gamma_AF8, Gamma_TP10, RAW_TP9, RAW_AF7, RAW_AF8, RAW_TP10, AUX_RIGHT, Accelerometer_X, Accelerometer_Y, Accelerometer_Z, Gyro_X, Gyro_Y, Gyro_Z, HeadBandOn, HSI_TP9, HSI_AF7, HSI_AF8, HSI_TP10, Battery, Elements, Participant, Test, Gender, English, Dominance]\n",
      "Index: []\n",
      "\n",
      "[0 rows x 44 columns]\n"
     ]
    }
   ],
   "source": [
    "dftarget = pd.read_csv(all_filenames[15])\n",
    "print(dftarget.head(0))"
   ]
  },
  {
   "cell_type": "markdown",
   "id": "34f62e70",
   "metadata": {},
   "source": [
    "## Checking output headers 'timeStump'"
   ]
  },
  {
   "cell_type": "code",
   "execution_count": 50,
   "id": "a718f9f4",
   "metadata": {},
   "outputs": [
    {
     "data": {
      "text/html": [
       "<div>\n",
       "<style scoped>\n",
       "    .dataframe tbody tr th:only-of-type {\n",
       "        vertical-align: middle;\n",
       "    }\n",
       "\n",
       "    .dataframe tbody tr th {\n",
       "        vertical-align: top;\n",
       "    }\n",
       "\n",
       "    .dataframe thead th {\n",
       "        text-align: right;\n",
       "    }\n",
       "</style>\n",
       "<table border=\"1\" class=\"dataframe\">\n",
       "  <thead>\n",
       "    <tr style=\"text-align: right;\">\n",
       "      <th></th>\n",
       "      <th>TimeStamp</th>\n",
       "      <th>Delta_TP9</th>\n",
       "      <th>Delta_AF7</th>\n",
       "      <th>Delta_AF8</th>\n",
       "      <th>Delta_TP10</th>\n",
       "      <th>Theta_TP9</th>\n",
       "      <th>Theta_AF7</th>\n",
       "      <th>Theta_AF8</th>\n",
       "      <th>Theta_TP10</th>\n",
       "      <th>Alpha_TP9</th>\n",
       "      <th>...</th>\n",
       "      <th>HSI_AF7</th>\n",
       "      <th>HSI_AF8</th>\n",
       "      <th>HSI_TP10</th>\n",
       "      <th>Battery</th>\n",
       "      <th>Elements</th>\n",
       "      <th>Participant</th>\n",
       "      <th>Test</th>\n",
       "      <th>Gender</th>\n",
       "      <th>English</th>\n",
       "      <th>Dominance</th>\n",
       "    </tr>\n",
       "  </thead>\n",
       "  <tbody>\n",
       "  </tbody>\n",
       "</table>\n",
       "<p>0 rows × 44 columns</p>\n",
       "</div>"
      ],
      "text/plain": [
       "Empty DataFrame\n",
       "Columns: [TimeStamp, Delta_TP9, Delta_AF7, Delta_AF8, Delta_TP10, Theta_TP9, Theta_AF7, Theta_AF8, Theta_TP10, Alpha_TP9, Alpha_AF7, Alpha_AF8, Alpha_TP10, Beta_TP9, Beta_AF7, Beta_AF8, Beta_TP10, Gamma_TP9, Gamma_AF7, Gamma_AF8, Gamma_TP10, RAW_TP9, RAW_AF7, RAW_AF8, RAW_TP10, AUX_RIGHT, Accelerometer_X, Accelerometer_Y, Accelerometer_Z, Gyro_X, Gyro_Y, Gyro_Z, HeadBandOn, HSI_TP9, HSI_AF7, HSI_AF8, HSI_TP10, Battery, Elements, Participant, Test, Gender, English, Dominance]\n",
       "Index: []\n",
       "\n",
       "[0 rows x 44 columns]"
      ]
     },
     "metadata": {},
     "output_type": "display_data"
    },
    {
     "data": {
      "text/html": [
       "<div>\n",
       "<style scoped>\n",
       "    .dataframe tbody tr th:only-of-type {\n",
       "        vertical-align: middle;\n",
       "    }\n",
       "\n",
       "    .dataframe tbody tr th {\n",
       "        vertical-align: top;\n",
       "    }\n",
       "\n",
       "    .dataframe thead th {\n",
       "        text-align: right;\n",
       "    }\n",
       "</style>\n",
       "<table border=\"1\" class=\"dataframe\">\n",
       "  <thead>\n",
       "    <tr style=\"text-align: right;\">\n",
       "      <th></th>\n",
       "      <th>TimeStump</th>\n",
       "      <th>Delta_TP9</th>\n",
       "      <th>Delta_AF7</th>\n",
       "      <th>Delta_AF8</th>\n",
       "      <th>Delta_TP10</th>\n",
       "      <th>Theta_TP9</th>\n",
       "      <th>Theta_AF7</th>\n",
       "      <th>Theta_AF8</th>\n",
       "      <th>Theta_TP10</th>\n",
       "      <th>Alpha_TP9</th>\n",
       "      <th>...</th>\n",
       "      <th>HSI_AF7</th>\n",
       "      <th>HSI_AF8</th>\n",
       "      <th>HSI_TP10</th>\n",
       "      <th>Battery</th>\n",
       "      <th>Elements</th>\n",
       "      <th>Participant</th>\n",
       "      <th>Test</th>\n",
       "      <th>Gender</th>\n",
       "      <th>English</th>\n",
       "      <th>Dominance</th>\n",
       "    </tr>\n",
       "  </thead>\n",
       "  <tbody>\n",
       "  </tbody>\n",
       "</table>\n",
       "<p>0 rows × 44 columns</p>\n",
       "</div>"
      ],
      "text/plain": [
       "Empty DataFrame\n",
       "Columns: [TimeStump, Delta_TP9, Delta_AF7, Delta_AF8, Delta_TP10, Theta_TP9, Theta_AF7, Theta_AF8, Theta_TP10, Alpha_TP9, Alpha_AF7, Alpha_AF8, Alpha_TP10, Beta_TP9, Beta_AF7, Beta_AF8, Beta_TP10, Gamma_TP9, Gamma_AF7, Gamma_AF8, Gamma_TP10, RAW_TP9, RAW_AF7, RAW_AF8, RAW_TP10, AUX_RIGHT, Accelerometer_X, Accelerometer_Y, Accelerometer_Z, Gyro_X, Gyro_Y, Gyro_Z, HeadBandOn, HSI_TP9, HSI_AF7, HSI_AF8, HSI_TP10, Battery, Elements, Participant, Test, Gender, English, Dominance]\n",
       "Index: []\n",
       "\n",
       "[0 rows x 44 columns]"
      ]
     },
     "metadata": {},
     "output_type": "display_data"
    }
   ],
   "source": [
    "# change header of one TEST\n",
    "df = pd.read_csv(all_filenames[0])\n",
    "display(df.head(0))\n",
    "df2 = df.set_axis(['TimeStump', 'Delta_TP9', 'Delta_AF7', 'Delta_AF8', 'Delta_TP10', 'Theta_TP9', 'Theta_AF7', 'Theta_AF8', 'Theta_TP10', 'Alpha_TP9', 'Alpha_AF7', 'Alpha_AF8', 'Alpha_TP10', 'Beta_TP9', 'Beta_AF7', 'Beta_AF8', 'Beta_TP10', 'Gamma_TP9', 'Gamma_AF7', 'Gamma_AF8', 'Gamma_TP10', 'RAW_TP9', 'RAW_AF7', 'RAW_AF8', 'RAW_TP10', 'AUX_RIGHT', 'Accelerometer_X', 'Accelerometer_Y', 'Accelerometer_Z', 'Gyro_X', 'Gyro_Y', 'Gyro_Z', 'HeadBandOn', 'HSI_TP9', 'HSI_AF7', 'HSI_AF8', 'HSI_TP10', 'Battery', 'Elements', 'Participant', 'Test', 'Gender', 'English', 'Dominance'], axis=1, inplace=False)\n",
    "display(df2.head(0))\n",
    "name = all_filenames[0]\n",
    "df2.to_csv(name, index=False)"
   ]
  },
  {
   "cell_type": "markdown",
   "id": "8b4ea915",
   "metadata": {},
   "source": [
    "# Make a function to do all header replacement"
   ]
  },
  {
   "cell_type": "code",
   "execution_count": 51,
   "id": "8258e79d",
   "metadata": {},
   "outputs": [],
   "source": [
    "def changeall(file):\n",
    "    df = pd.read_csv(file)\n",
    "    df2 = df.set_axis(['Timestamp', 'Delta_TP9', 'Delta_AF7', 'Delta_AF8', 'Delta_TP10', 'Theta_TP9', 'Theta_AF7', 'Theta_AF8', 'Theta_TP10', 'Alpha_TP9', 'Alpha_AF7', 'Alpha_AF8', 'Alpha_TP10', 'Beta_TP9', 'Beta_AF7', 'Beta_AF8', 'Beta_TP10', 'Gamma_TP9', 'Gamma_AF7', 'Gamma_AF8', 'Gamma_TP10', 'RAW_TP9', 'RAW_AF7', 'RAW_AF8', 'RAW_TP10', 'AUX_RIGHT', 'Accelerometer_X', 'Accelerometer_Y', 'Accelerometer_Z', 'Gyro_X', 'Gyro_Y', 'Gyro_Z', 'HeadBandOn', 'HSI_TP9', 'HSI_AF7', 'HSI_AF8', 'HSI_TP10', 'Battery', 'Elements', 'Participant', 'Test', 'Gender', 'English', 'Dominance'], axis=1, inplace=False)\n",
    "    name = all_filenames[i]\n",
    "    df2.to_csv(name, index=False)"
   ]
  },
  {
   "cell_type": "markdown",
   "id": "5e248578",
   "metadata": {},
   "source": [
    "# Run function on entire file"
   ]
  },
  {
   "cell_type": "code",
   "execution_count": 52,
   "id": "c1cb4670",
   "metadata": {},
   "outputs": [
    {
     "name": "stdout",
     "output_type": "stream",
     "text": [
      "LHC-101.csv\n",
      "LHC-102.csv\n",
      "LHC-103.csv\n",
      "LHC-122.csv\n",
      "LHC-126.csv\n",
      "LHS-101.csv\n",
      "LHS-102.csv\n",
      "LHS-103.csv\n",
      "LHS-122.csv\n",
      "LHS-126.csv\n",
      "RHC-101.csv\n",
      "RHC-102.csv\n",
      "RHC-103.csv\n",
      "RHC-122.csv\n",
      "RHC-126.csv\n",
      "RHS-101.csv\n",
      "RHS-102.csv\n",
      "RHS-103.csv\n",
      "RHS-122.csv\n",
      "RHS-126.csv\n"
     ]
    }
   ],
   "source": [
    "for i in range(len(all_filenames)):\n",
    "    mycsv = (all_filenames[i])\n",
    "    changeall(mycsv)\n"
   ]
  },
  {
   "cell_type": "code",
   "execution_count": null,
   "id": "6238df9d",
   "metadata": {},
   "outputs": [],
   "source": []
  }
 ],
 "metadata": {
  "kernelspec": {
   "display_name": "Python 3 (ipykernel)",
   "language": "python",
   "name": "python3"
  },
  "language_info": {
   "codemirror_mode": {
    "name": "ipython",
    "version": 3
   },
   "file_extension": ".py",
   "mimetype": "text/x-python",
   "name": "python",
   "nbconvert_exporter": "python",
   "pygments_lexer": "ipython3",
   "version": "3.9.7"
  }
 },
 "nbformat": 4,
 "nbformat_minor": 5
}
